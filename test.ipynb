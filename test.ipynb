{
 "cells": [
  {
   "cell_type": "code",
   "execution_count": 1,
   "metadata": {},
   "outputs": [],
   "source": [
    "include(\"foldexity.jl\")"
   ]
  },
  {
   "cell_type": "code",
   "execution_count": 2,
   "metadata": {},
   "outputs": [
    {
     "name": "stdout",
     "output_type": "stream",
     "text": [
      "\n"
     ]
    }
   ],
   "source": [
    "pdb = readpdb(\"testpdb/small.pdb\")\n",
    "writepdb(pdb, \"testpdb/small_backbone.pdb\")\n",
    "\n",
    "xyzcoords = pdb2matrix(pdb)\n",
    "coordmatrix = matrix2fragments(xyzcoords, 12)\n",
    "\n",
    "pdbmatrix = pdb2pdbmatrix(pdb)\n",
    "pdbfragments = matrix2fragments(pdbmatrix)\n",
    "\n",
    "println()\n"
   ]
  },
  {
   "cell_type": "code",
   "execution_count": null,
   "metadata": {},
   "outputs": [
    {
     "data": {
      "text/plain": [
       "false"
      ]
     },
     "metadata": {},
     "output_type": "display_data"
    }
   ],
   "source": [
    "function missing_residues(pdb)\n",
    "    resid = unique(pdb.resid)\n",
    "    return !all((diff(resid) .== 1))  \n",
    "end\n",
    "\n"
   ]
  },
  {
   "cell_type": "code",
   "execution_count": null,
   "metadata": {},
   "outputs": [
    {
     "name": "stdout",
     "output_type": "stream",
     "text": [
      "Int32[1, 1, 1, 1, 1, 1, 1, 1, 1, 1, 1, 1, 1, 1, 1, 1, 1, 1, 1, 1, 1, 1, 1, 1, 1, 1, 1, 1, 1, 1, 1, 1, 1, 1, 1, 1, 1, 1, 1, 1, 1, 1, 1, 1, 1, 1, 1, 1, 1]"
     ]
    }
   ],
   "source": []
  },
  {
   "cell_type": "code",
   "execution_count": 3,
   "metadata": {},
   "outputs": [
    {
     "data": {
      "text/plain": [
       "19.746475496483697"
      ]
     },
     "metadata": {},
     "output_type": "display_data"
    }
   ],
   "source": [
    "pfrag1 = coordmatrix[10]\n",
    "pfrag2 = coordmatrix[31]\n",
    "\n",
    "align_rmsd(pfrag1, pfrag2)"
   ]
  },
  {
   "cell_type": "code",
   "execution_count": 4,
   "metadata": {},
   "outputs": [
    {
     "data": {
      "text/plain": [
       "(12.604134669018569, 37, 0.9487179487179487, 39, [0.0 15.259918127243338 … 15.673347910584875 6.248241906285712; 15.259918127243338 0.0 … 17.808255124041203 14.988237305484544; … ; 15.673347910584875 17.808255124041203 … 0.0 14.628995374500345; 6.248241906285712 14.988237305484544 … 14.628995374500345 0.0])"
      ]
     },
     "metadata": {},
     "output_type": "display_data"
    }
   ],
   "source": [
    "aver_rmsd, nclusts, fxity, nres, matrix = fxity_kabsh(coordmatrix)"
   ]
  },
  {
   "cell_type": "code",
   "execution_count": 5,
   "metadata": {},
   "outputs": [
    {
     "name": "stdout",
     "output_type": "stream",
     "text": [
      "Starting foldexity ...\n",
      "5 files are collected \n",
      "Starting foldexity ...\n",
      "1\ttestpdb/3EFM.pdb\t0.5202108963093146\t296\t4.470485886057379\t569\n",
      "2\ttestpdb/AF-Q8VCK6-F1-model_v4.pdb\t0.26605504587155965\t87\t2.6608642385790833\t327\n",
      "3\ttestpdb/polya.pdb\t0.1724137931034483\t10\t0.364438980618678\t58\n",
      "4\ttestpdb/small.pdb\t0.2978723404255319\t14\t2.208886731628906\t47\n",
      "5\ttestpdb/small_backbone.pdb\t0.2978723404255319\t14\t2.208886731628906\t47\n"
     ]
    }
   ],
   "source": [
    "fxity, nfrags = fxpdb(\"testpdb/small.pdb\") \n",
    "data = fxdir(\"testpdb/\", \"tmp\", 4, true)  \n",
    "rm(\"tmp\")"
   ]
  }
 ],
 "metadata": {
  "kernelspec": {
   "display_name": "Julia 1.11.2",
   "language": "julia",
   "name": "julia-1.11"
  },
  "language_info": {
   "file_extension": ".jl",
   "mimetype": "application/julia",
   "name": "julia",
   "version": "1.11.2"
  }
 },
 "nbformat": 4,
 "nbformat_minor": 2
}
