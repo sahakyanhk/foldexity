{
 "cells": [
  {
   "cell_type": "code",
   "execution_count": 20,
   "metadata": {},
   "outputs": [],
   "source": [
    "using BenchmarkTools\n",
    "using Dates\n"
   ]
  },
  {
   "cell_type": "code",
   "execution_count": 95,
   "metadata": {},
   "outputs": [],
   "source": [
    "include(\"src/foldexity.jl\")\n",
    "include(\"src/entropy.jl\")"
   ]
  },
  {
   "cell_type": "code",
   "execution_count": null,
   "metadata": {},
   "outputs": [],
   "source": [
    "fxity, aver_rmsd, nclusts, norm_nclusts, n, matrix = fxpdb(\"testpdb/3EFM.pdb\") "
   ]
  },
  {
   "cell_type": "code",
   "execution_count": null,
   "metadata": {},
   "outputs": [],
   "source": [
    "data = fxdir(\"testpdb/\", \"tmp\", 4, true)  \n",
    "rm(\"tmp\")"
   ]
  },
  {
   "cell_type": "code",
   "execution_count": 22,
   "metadata": {},
   "outputs": [
    {
     "name": "stdout",
     "output_type": "stream",
     "text": [
      "\n"
     ]
    }
   ],
   "source": [
    "pdb = readpdb(\"testpdb/AF-Q8VCK6-F1-model_v4.pdb\")\n",
    "writepdb(pdb, \"testpdb/backbone.pdb\")\n",
    "fsize = 8\n",
    "\n",
    "xyzcoords = pdb2matrix(pdb)\n",
    "coordmatrix = matrix2fragments(xyzcoords, fsize)\n",
    "\n",
    "pdbmatrix = pdb2pdbmatrix(pdb)\n",
    "pdbfragments = matrix2fragments(pdbmatrix, fsize)\n"
   ]
  },
  {
   "cell_type": "code",
   "execution_count": 23,
   "metadata": {},
   "outputs": [],
   "source": [
    "# dump PDB fragments\n",
    "pdb = readpdb(\"testpdb/small.pdb\")\n",
    "pdbfragments = matrix2fragments(pdbmatrix, 20)\n",
    "for (i, frag) in enumerate(pdbfragments)\n",
    "    writepdb(pdbmatrix2pdb(frag), \"frags/frag$i.pdb\")\n",
    "end"
   ]
  },
  {
   "cell_type": "code",
   "execution_count": 80,
   "metadata": {},
   "outputs": [
    {
     "data": {
      "text/plain": [
       "0.36361846f0"
      ]
     },
     "metadata": {},
     "output_type": "display_data"
    }
   ],
   "source": [
    "pfrag1 = coordmatrix[10]\n",
    "pfrag2 = coordmatrix[11]\n",
    "\n",
    "align_rmsd(pfrag1, pfrag2)"
   ]
  },
  {
   "cell_type": "code",
   "execution_count": 98,
   "metadata": {},
   "outputs": [
    {
     "data": {
      "text/plain": [
       "(7.309983070517202, 8.600171516053804, 220, 0.6811145510835913, 323, [0.0 12.18087387084961 … 20.524507522583008 20.470008850097656; 12.18087387084961 0.0 … 22.167490005493164 22.168933868408203; … ; 20.524507522583008 22.167490005493164 … 0.0 4.060173988342285; 20.470008850097656 22.168933868408203 … 4.060173988342285 0.0])"
      ]
     },
     "metadata": {},
     "output_type": "display_data"
    }
   ],
   "source": [
    "fxity, aver_rmsd, nclusts, norm_nclusts, n, matrix = fxity_kabsh(coordmatrix)"
   ]
  }
 ],
 "metadata": {
  "kernelspec": {
   "display_name": "Julia 1.11.3",
   "language": "julia",
   "name": "julia-1.11"
  },
  "language_info": {
   "file_extension": ".jl",
   "mimetype": "application/julia",
   "name": "julia",
   "version": "1.11.3"
  }
 },
 "nbformat": 4,
 "nbformat_minor": 2
}
