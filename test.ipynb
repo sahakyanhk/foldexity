{
 "cells": [
  {
   "cell_type": "code",
   "execution_count": 168,
   "metadata": {},
   "outputs": [
    {
     "name": "stderr",
     "output_type": "stream",
     "text": [
      "\u001b[32m\u001b[1m   Resolving\u001b[22m\u001b[39m package versions...\n",
      "\u001b[32m\u001b[1m   Installed\u001b[22m\u001b[39m BenchmarkTools ─ v1.5.0\n",
      "\u001b[32m\u001b[1m    Updating\u001b[22m\u001b[39m `/spin1/home/linux/saakyanh2/.julia/environments/v1.11/Project.toml`\n",
      "  \u001b[90m[6e4b80f9] \u001b[39m\u001b[92m+ BenchmarkTools v1.5.0\u001b[39m\n",
      "\u001b[32m\u001b[1m    Updating\u001b[22m\u001b[39m `/spin1/home/linux/saakyanh2/.julia/environments/v1.11/Manifest.toml`\n",
      "  \u001b[90m[6e4b80f9] \u001b[39m\u001b[92m+ BenchmarkTools v1.5.0\u001b[39m\n",
      "  \u001b[90m[9abbd945] \u001b[39m\u001b[92m+ Profile v1.11.0\u001b[39m\n",
      "\u001b[92m\u001b[1mPrecompiling\u001b[22m\u001b[39m project...\n",
      "   1267.3 ms\u001b[32m  ✓ \u001b[39mBenchmarkTools\n",
      "  1 dependency successfully precompiled in 3 seconds. 215 already precompiled.\n"
     ]
    }
   ],
   "source": [
    "import Pkg; Pkg.add(\"BenchmarkTools\")"
   ]
  },
  {
   "cell_type": "code",
   "execution_count": 169,
   "metadata": {},
   "outputs": [],
   "source": [
    "using Distances\n",
    "using BenchmarkTools"
   ]
  },
  {
   "cell_type": "code",
   "execution_count": null,
   "metadata": {},
   "outputs": [],
   "source": [
    "include(\"foldexity.jl\")"
   ]
  },
  {
   "cell_type": "code",
   "execution_count": 333,
   "metadata": {},
   "outputs": [
    {
     "name": "stdout",
     "output_type": "stream",
     "text": [
      "\n"
     ]
    }
   ],
   "source": [
    "pdb = readpdb(\"testpdb/3EFM.pdb\")\n",
    "writepdb(pdb, \"testpdb/backbone.pdb\")\n",
    "fsize = 8\n",
    "\n",
    "xyzcoords = pdb2matrix(pdb)\n",
    "coordmatrix = matrix2fragments(xyzcoords, fsize)\n",
    "\n",
    "pdbmatrix = pdb2pdbmatrix(pdb)\n",
    "pdbfragments = matrix2fragments(pdbmatrix, fsize)\n",
    "\n",
    "println()\n"
   ]
  },
  {
   "cell_type": "code",
   "execution_count": 334,
   "metadata": {},
   "outputs": [],
   "source": [
    "# dump PDB fragments\n",
    "\n",
    "pdb = readpdb(\"testpdb/small.pdb\")\n",
    "pdbfragments = matrix2fragments(pdbmatrix, 20)\n",
    "for (i, frag) in enumerate(pdbfragments)\n",
    "    writepdb(pdbmatrix2pdb(frag), \"frags/frag$i.pdb\")\n",
    "end"
   ]
  },
  {
   "cell_type": "code",
   "execution_count": 341,
   "metadata": {},
   "outputs": [
    {
     "name": "stdout",
     "output_type": "stream",
     "text": [
      "  7.166 μs (170 allocations: 10.66 KiB)\n",
      "  5.667 μs (76 allocations: 6.88 KiB)\n"
     ]
    },
    {
     "data": {
      "text/plain": [
       "8.284607f0"
      ]
     },
     "metadata": {},
     "output_type": "display_data"
    }
   ],
   "source": [
    "pfrag1 = coordmatrix[2]\n",
    "pfrag2 = coordmatrix[1]\n",
    "\n",
    "@btime align_rmsd(pfrag1, pfrag2)\n",
    "@btime align_rmsd2(pfrag1, pfrag2)"
   ]
  },
  {
   "cell_type": "code",
   "execution_count": 340,
   "metadata": {},
   "outputs": [
    {
     "data": {
      "text/plain": [
       "align_rmsd2 (generic function with 1 method)"
      ]
     },
     "metadata": {},
     "output_type": "display_data"
    }
   ],
   "source": [
    "function align_rmsd(m1,m2)\n",
    "\n",
    "    normalisedP = (translate_to_centroid(m1))\n",
    "    normalisedQ = (translate_to_centroid(m2))\n",
    "\n",
    "    xcov = cross_covariance_matrix(normalisedP,normalisedQ)\n",
    "    orot = optimal_rotation_matrix(xcov)\n",
    "\n",
    "    num_atoms = size(normalisedP)[1]\n",
    "    rotated = zeros(Float64,num_atoms,3)\n",
    "\n",
    "    for i=1:num_atoms\n",
    "        rotated[i,:] = orot*normalisedP[i,:]\n",
    "    end\n",
    "\n",
    "    RMSD_value = norm(rotated-normalisedQ)\n",
    "\n",
    "    #TMscore\n",
    "    distances = colwise(euclidean, rotated', normalisedQ')\n",
    "    L0 = num_atoms\n",
    "    d0 = 1.24 * cbrt(fsize - 15) - 1.8\n",
    "    tm = (1/L0) * sum([1 / (1 + ((d/d0) ^2)) for d in distances])\n",
    "\n",
    "    return RMSD_value\n",
    "end\n",
    "\n",
    "\n",
    "function align_rmsd2(m1,m2)\n",
    "\n",
    "    normalisedP = (translate_to_centroid(m1))\n",
    "    normalisedQ = (translate_to_centroid(m2))\n",
    "\n",
    "    xcov = cross_covariance_matrix(normalisedP,normalisedQ)\n",
    "    orot = optimal_rotation_matrix(xcov)\n",
    "\n",
    "    num_atoms = size(normalisedP)[1]\n",
    "    rotated = zeros(Float64,num_atoms,3)\n",
    "\n",
    "    rotated  = (orot*normalisedP')'\n",
    "\n",
    "    RMSD_value = norm(rotated-normalisedQ)\n",
    "\n",
    "    #TMscore\n",
    "    distances = colwise(euclidean, rotated', normalisedQ')\n",
    "    L0 = num_atoms\n",
    "    d0 = 1.24 * cbrt(fsize - 15) - 1.8\n",
    "    tm = (1/L0) * sum([1 / (1 + ((d/d0) ^2)) for d in distances])\n",
    "    \n",
    "    return RMSD_value\n",
    "end\n"
   ]
  },
  {
   "cell_type": "code",
   "execution_count": null,
   "metadata": {},
   "outputs": [],
   "source": []
  },
  {
   "cell_type": "code",
   "execution_count": 304,
   "metadata": {},
   "outputs": [
    {
     "data": {
      "text/plain": [
       "0.004720466371910841"
      ]
     },
     "metadata": {},
     "output_type": "display_data"
    }
   ],
   "source": [
    "#TMscore\n",
    "distances = colwise(euclidean, rotated', normalisedQ')\n",
    "L0 = fsize*3\n",
    "d0 = 1.24 * cbrt(fsize - 15) - 1.8\n",
    "(1/L0) * sum([1 / (1 + ((d/d0) ^2)) for d in distances])\n"
   ]
  },
  {
   "cell_type": "code",
   "execution_count": 4,
   "metadata": {},
   "outputs": [
    {
     "data": {
      "text/plain": [
       "(12.604134669018569, 37, 0.9487179487179487, 39, [0.0 15.259918127243338 … 15.673347910584875 6.248241906285712; 15.259918127243338 0.0 … 17.808255124041203 14.988237305484544; … ; 15.673347910584875 17.808255124041203 … 0.0 14.628995374500345; 6.248241906285712 14.988237305484544 … 14.628995374500345 0.0])"
      ]
     },
     "metadata": {},
     "output_type": "display_data"
    }
   ],
   "source": [
    "aver_rmsd, nclusts, fxity, nres, matrix = fxity_kabsh(coordmatrix)"
   ]
  },
  {
   "cell_type": "code",
   "execution_count": 5,
   "metadata": {},
   "outputs": [
    {
     "name": "stdout",
     "output_type": "stream",
     "text": [
      "Starting foldexity ...\n",
      "5 files are collected \n",
      "Starting foldexity ...\n",
      "1\ttestpdb/3EFM.pdb\t0.5202108963093146\t296\t4.470485886057379\t569\n",
      "2\ttestpdb/AF-Q8VCK6-F1-model_v4.pdb\t0.26605504587155965\t87\t2.6608642385790833\t327\n",
      "3\ttestpdb/polya.pdb\t0.1724137931034483\t10\t0.364438980618678\t58\n",
      "4\ttestpdb/small.pdb\t0.2978723404255319\t14\t2.208886731628906\t47\n",
      "5\ttestpdb/small_backbone.pdb\t0.2978723404255319\t14\t2.208886731628906\t47\n"
     ]
    }
   ],
   "source": [
    "fxity, nfrags = fxpdb(\"testpdb/small.pdb\") \n",
    "data = fxdir(\"testpdb/\", \"tmp\", 4, true)  \n",
    "rm(\"tmp\")"
   ]
  }
 ],
 "metadata": {
  "kernelspec": {
   "display_name": "Julia 1.11.2",
   "language": "julia",
   "name": "julia-1.11"
  },
  "language_info": {
   "file_extension": ".jl",
   "mimetype": "application/julia",
   "name": "julia",
   "version": "1.11.2"
  }
 },
 "nbformat": 4,
 "nbformat_minor": 2
}
