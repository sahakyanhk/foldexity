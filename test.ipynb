{
 "cells": [
  {
   "cell_type": "code",
   "execution_count": null,
   "metadata": {},
   "outputs": [],
   "source": [
    "include(\"foldexity.jl\")"
   ]
  },
  {
   "cell_type": "code",
   "execution_count": null,
   "metadata": {},
   "outputs": [],
   "source": [
    "pdb = readpdb(\"testpdb/small.pdb\")\n",
    "writepdb(pdb, \"testpdb/small_backbone.pdb\")\n",
    "\n",
    "xyzcoords = pdb2matrix(pdb)\n",
    "coordmatrix = matrix2fragments(xyzcoords)\n",
    "\n",
    "pdbmatrix = pdb2pdbmatrix(pdb)\n",
    "pdbfragments = matrix2fragments(pdbmatrix)\n",
    "\n",
    "println()\n"
   ]
  },
  {
   "cell_type": "code",
   "execution_count": null,
   "metadata": {},
   "outputs": [],
   "source": [
    "pfrag1 = coordmatrix[10]\n",
    "pfrag2 = coordmatrix[31]\n",
    "\n",
    "align_rmsd(pfrag1, pfrag2)"
   ]
  },
  {
   "cell_type": "code",
   "execution_count": null,
   "metadata": {},
   "outputs": [],
   "source": [
    "fx, m = fxity_kabsh(coordmatrix)\n",
    "fxity, nfrags = fxpdb(\"testpdb/small.pdb\") \n",
    "data = fxdir(\"testpdb/\", true)  "
   ]
  },
  {
   "cell_type": "code",
   "execution_count": null,
   "metadata": {},
   "outputs": [],
   "source": []
  }
 ],
 "metadata": {
  "kernelspec": {
   "display_name": "Julia 1.11.2",
   "language": "julia",
   "name": "julia-1.11"
  },
  "language_info": {
   "file_extension": ".jl",
   "mimetype": "application/julia",
   "name": "julia",
   "version": "1.11.2"
  }
 },
 "nbformat": 4,
 "nbformat_minor": 2
}
