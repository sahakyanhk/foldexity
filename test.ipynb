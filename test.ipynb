{
 "cells": [
  {
   "cell_type": "code",
   "execution_count": 1,
   "metadata": {},
   "outputs": [],
   "source": [
    "include(\"foldexity.jl\")"
   ]
  },
  {
   "cell_type": "code",
   "execution_count": 13,
   "metadata": {},
   "outputs": [
    {
     "name": "stdout",
     "output_type": "stream",
     "text": [
      "\n"
     ]
    }
   ],
   "source": [
    "pdb = readpdb(\"testpdb/small.pdb\")\n",
    "writepdb(pdb, \"testpdb/small_backbone.pdb\")\n",
    "\n",
    "xyzcoords = pdb2matrix(pdb)\n",
    "coordmatrix = matrix2fragments(xyzcoords, 12)\n",
    "\n",
    "pdbmatrix = pdb2pdbmatrix(pdb)\n",
    "pdbfragments = matrix2fragments(pdbmatrix)\n",
    "\n",
    "println()\n"
   ]
  },
  {
   "cell_type": "code",
   "execution_count": 14,
   "metadata": {},
   "outputs": [
    {
     "data": {
      "text/plain": [
       "19.746475496483697"
      ]
     },
     "metadata": {},
     "output_type": "display_data"
    }
   ],
   "source": [
    "pfrag1 = coordmatrix[10]\n",
    "pfrag2 = coordmatrix[31]\n",
    "\n",
    "align_rmsd(pfrag1, pfrag2)"
   ]
  },
  {
   "cell_type": "code",
   "execution_count": 15,
   "metadata": {},
   "outputs": [
    {
     "data": {
      "text/plain": [
       "(12.604134669018569, 37, 0.9487179487179487, 39, [0.0 15.259918127243338 … 15.673347910584875 6.248241906285712; 15.259918127243338 0.0 … 17.808255124041203 14.988237305484544; … ; 15.673347910584875 17.808255124041203 … 0.0 14.628995374500345; 6.248241906285712 14.988237305484544 … 14.628995374500345 0.0])"
      ]
     },
     "metadata": {},
     "output_type": "display_data"
    }
   ],
   "source": [
    "aver_rmsd, nclusts, fxity, nres, matrix = fxity_kabsh(coordmatrix)"
   ]
  },
  {
   "cell_type": "code",
   "execution_count": 37,
   "metadata": {},
   "outputs": [
    {
     "name": "stdout",
     "output_type": "stream",
     "text": [
      "Starting foldexity ...\n",
      "8 files are collected \n",
      "Starting foldexity ...\n",
      "1\ttestpdb/3EFM.pdb\t0.827768014059754\t471\t4.470485886057379\t569\n",
      "2\ttestpdb/AF-Q8VCK6-F1-model_v4.pdb\t0.41284403669724773\t135\t2.6608642385790833\t327\n",
      "3\ttestpdb/d1dcea1.pdb\t0.6212121212121212\t205\t3.26047254437095\t330\n",
      "4\ttestpdb/d1h6ta2.pdb\t0.6859903381642513\t142\t11.910288205705166\t207\n",
      "5\ttestpdb/d2vdfa1.pdb\t0.8288288288288288\t184\t7.221885034927906\t222\n",
      "6\ttestpdb/polya.pdb\t0.2413793103448276\t14\t0.364438980618678\t58\n",
      "7\ttestpdb/small.pdb\t0.46808510638297873\t22\t2.208886731628906\t47\n",
      "8\ttestpdb/small_backbone.pdb\t0.46808510638297873\t22\t2.208886731628906\t47\n"
     ]
    }
   ],
   "source": [
    "fxity, nfrags = fxpdb(\"testpdb/small.pdb\") \n",
    "data = fxdir(\"testpdb/\", \"tmp\", 4, true)  \n",
    "rm(\"tmp\")"
   ]
  }
 ],
 "metadata": {
  "kernelspec": {
   "display_name": "Julia 1.11.2",
   "language": "julia",
   "name": "julia-1.11"
  },
  "language_info": {
   "file_extension": ".jl",
   "mimetype": "application/julia",
   "name": "julia",
   "version": "1.11.2"
  }
 },
 "nbformat": 4,
 "nbformat_minor": 2
}
