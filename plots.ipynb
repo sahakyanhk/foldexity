{
 "cells": [
  {
   "cell_type": "code",
   "execution_count": null,
   "metadata": {},
   "outputs": [],
   "source": [
    "using Plots\n",
    "using CSV\n",
    "using DataFrames\n",
    "using Statistics\n",
    "using Plots.PlotMeasures\n",
    "using Plots\n",
    "\n"
   ]
  },
  {
   "cell_type": "code",
   "execution_count": null,
   "metadata": {},
   "outputs": [],
   "source": [
    "df4 = CSV.read(\"scop40_fs4.tsv\", DataFrame, delim=\"\\t\", header=1)\n",
    "rename!(df4, \"fxity\" => \"fxity4\")\n",
    "df8 = CSV.read(\"scop40_fs8.tsv\", DataFrame, delim=\"\\t\", header=1)\n",
    "rename!(df8, \"fxity\" => \"fxity8\")\n",
    "df12 = CSV.read(\"scop40_fs12.tsv\", DataFrame, delim=\"\\t\", header=1)\n",
    "rename!(df12, \"fxity\" => \"fxity12\")\n",
    "df = CSV.read(\"scop40.tsv\", DataFrame, delim=\"\\t\", header=1)\n",
    "print()"
   ]
  },
  {
   "cell_type": "code",
   "execution_count": null,
   "metadata": {},
   "outputs": [],
   "source": [
    "df = outerjoin(select!(df4, Not(:ndx)), \n",
    "select!(df8, Not(:ndx)), \n",
    "select!(df12, Not(:ndx)),\n",
    "on=:pdbpath, makeunique=true)\n",
    "print()"
   ]
  },
  {
   "cell_type": "code",
   "execution_count": null,
   "metadata": {},
   "outputs": [],
   "source": [
    "df = dropmissing(df)\n",
    "df2 = df[(df.nfrags .> 200) .& (df.nfrags .< 400),:]\n",
    "sort!(df2,:fxity)\n"
   ]
  },
  {
   "cell_type": "code",
   "execution_count": null,
   "metadata": {},
   "outputs": [],
   "source": []
  },
  {
   "cell_type": "code",
   "execution_count": null,
   "metadata": {},
   "outputs": [],
   "source": [
    "p1 = histogram(df.fxity, bins=:scott, xlims = (0,1), xlabel=\"fxity\", ylabel=\"Frequency\")\n",
    "p2 = histogram(df.nclusts, bins=:scott, xlims = (0,1), xlabel=\"fxity\", ylabel=\"Frequency\")\n",
    "p2 = histogram(df.aver_rmsd, bins=:scott, xlims = (0,25), xlabel=\"fxity\", ylabel=\"Frequency\")\n",
    "p3 = histogram(df.nfrags, bins=:scott, xlims = (0, 1000), xlabel=\"Number of fragments\", ylabel=\"Frequency\")\n",
    "p4 = scatter(df.fxity, df.nfrags, xlims = (0,1), markershape=:circle, markersize = 3)\n",
    "plot(p1, p1_1, p2, p3, layout=(2, 4), margins = 5mm, dpi=300)\n",
    "plot!(size=(900,400))\n"
   ]
  },
  {
   "cell_type": "code",
   "execution_count": null,
   "metadata": {},
   "outputs": [],
   "source": [
    "println(cor(df.fxity4, df.fxity8))\n",
    "println(cor(df.fxity8, df.fxity12))\n",
    "println(cor(df.fxity12, df.fxity4))\n",
    "\n",
    "s1 = scatter(df.fxity4, df.fxity8,  markershape=:circle, markersize = 3)\n",
    "s2 = scatter(df.fxity8, df.fxity12, markershape=:circle, markersize = 3)\n",
    "s3 = scatter(df.fxity12, df.fxity4, markershape=:circle, markersize = 3)\n",
    "plot(s1, s2, s3, s4, layout=(1, 4), margins = 5mm)\n",
    "plot!(size=(800,300))\n",
    "\n"
   ]
  },
  {
   "cell_type": "code",
   "execution_count": null,
   "metadata": {},
   "outputs": [],
   "source": [
    "h1 = histogram(df.fxity4, bins=:scott, xlims = (0,10), xlabel=\"fxity\", ylabel=\"Frequency\")\n",
    "h2 = histogram(df.fxity8, bins=:scott, xlims = (0,25), xlabel=\"fxity\", )\n",
    "h3 = histogram(df.fxity12, bins=:scott, xlims = (0,45), xlabel=\"fxity\",)\n",
    "\n",
    "plot(h1, h2, h3, h3, layout=(1, 4), margins = 5mm)\n",
    "plot!(size=(900,300))\n"
   ]
  },
  {
   "cell_type": "code",
   "execution_count": null,
   "metadata": {},
   "outputs": [],
   "source": []
  }
 ],
 "metadata": {
  "kernelspec": {
   "display_name": "Julia 1.11.2",
   "language": "julia",
   "name": "julia-1.11"
  },
  "language_info": {
   "file_extension": ".jl",
   "mimetype": "application/julia",
   "name": "julia",
   "version": "1.11.2"
  }
 },
 "nbformat": 4,
 "nbformat_minor": 2
}
