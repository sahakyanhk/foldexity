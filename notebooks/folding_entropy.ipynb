{
 "cells": [
  {
   "cell_type": "code",
   "execution_count": 270,
   "metadata": {},
   "outputs": [],
   "source": [
    "using CSV\n",
    "using Glob\n",
    "using DataFrames\n",
    "using Statistics\n",
    "\n",
    "using Plots\n",
    "using Plots.PlotMeasures\n",
    "using StatsPlots, KernelDensity\n"
   ]
  },
  {
   "cell_type": "code",
   "execution_count": 271,
   "metadata": {},
   "outputs": [],
   "source": [
    "#cd(\"/vf/users/saakyanh2/WD/fx/foldexity\")\n",
    "include(\"../src/foldexity.jl\")\n",
    "include(\"../src/entropy.jl\")\n"
   ]
  },
  {
   "cell_type": "markdown",
   "metadata": {},
   "source": [
    "# Folding entropy"
   ]
  },
  {
   "cell_type": "code",
   "execution_count": null,
   "metadata": {},
   "outputs": [],
   "source": [
    "folding = \"ubiq2\"\n",
    "folding_trajpdb = \"../../mdfolding/pdbtraj_$folding\"\n",
    "rms = CSV.read(\"../../mdfolding/$folding.dat\", DataFrame, header=[\"f\", \"d\"], skipto=3)\n",
    "\n",
    "b, e, o = 3000, 6000, 1\n",
    "\n",
    "x = rms.d[b:o:e] \n",
    "\n",
    "print(length(x))\n",
    "\n",
    "plot(b:o:e, x, seriestype = :scatter, \n",
    "    size=(600, 250), markersize = 2, alpha = 0.5, margins = 5mm,\n",
    "    label=\"RMSD\", xlabel = \"Time\", ylabel=\"RMSD (Å)\")\n"
   ]
  },
  {
   "cell_type": "code",
   "execution_count": 273,
   "metadata": {},
   "outputs": [],
   "source": [
    "cpptraj(\"../../mdfolding/$folding.pdb\", \n",
    "        \"../../mdfolding/traj100_$folding.xtc\", b, e, o,\n",
    "        folding_trajpdb)"
   ]
  },
  {
   "cell_type": "code",
   "execution_count": null,
   "metadata": {},
   "outputs": [],
   "source": [
    "traj3di = structure2fs3di(folding_trajpdb)\n",
    "traj3di = traj3di[!, [:id, :seqaa, :seq3di]]\n",
    "transform!(traj3di, :id => ByRow(s -> parse(Int, split(basename(s),\".\")[1])) => :id)\n",
    "sort!(traj3di, :id)\n",
    "size(traj3di)"
   ]
  },
  {
   "cell_type": "code",
   "execution_count": null,
   "metadata": {},
   "outputs": [],
   "source": [
    "trajmu = structure2rsmu(folding_trajpdb)\n",
    "transform!(trajmu, :id => ByRow(s -> parse(Int, split(basename(s),\"_\")[1])) => :id)\n",
    "sort!(trajmu, :id)\n",
    "size(trajmu)"
   ]
  },
  {
   "cell_type": "code",
   "execution_count": null,
   "metadata": {},
   "outputs": [],
   "source": [
    "k=1\n",
    "traj3di[!,:H1_fold ] = entropy_shannon.(traj3di.seq3di, k)\n",
    "traj3di[!,:lz ] = lz76.(traj3di.seq3di, k)\n",
    "trajmu[!,:H1_fold ] = entropy_shannon.(trajmu.seq, k)\n",
    "trajmu[!,:lz ] = lz76.(trajmu.seq, k)\n",
    "size(trajmu)"
   ]
  },
  {
   "cell_type": "code",
   "execution_count": null,
   "metadata": {},
   "outputs": [],
   "source": [
    "function pltdots(x, label, mk=2, alpha=.5, wsize=10)\n",
    "    \n",
    "    moving_average = [mean(x[i:i+wsize]) for i in 1:length(x)-wsize]\n",
    "\n",
    "    p = plot(x, seriestype = :scatter, markersize = mk, alpha = alpha, label=label)\n",
    "    p = plot!(moving_average, linewidth = 2, alpha = 1, label=\"moving average\")\n",
    "\n",
    "    return p\n",
    "end\n",
    "\n",
    "p1 = pltdots(traj3di.H1_fold, \"H 3Di\")\n",
    "p2 = pltdots(trajmu.H1_fold, \"H Mu\")\n",
    "p3 = pltdots(traj3di.lz, \"LZ 3di\" )\n",
    "p4 = pltdots(trajmu.lz, \"LZ Mu\")\n",
    "\n",
    "plot(p1, p2, p3, p4, layout = (2,2), size = (800, 300))"
   ]
  },
  {
   "cell_type": "code",
   "execution_count": null,
   "metadata": {},
   "outputs": [],
   "source": [
    "fxdir(folding_trajpdb, \"fxdata.tsv\", 6, \"knn\", 1)\n",
    "fx = CSV.read(\"fxdata.tsv\", DataFrame, delim = \"\\t\") ; rm(\"fxdata.tsv\")\n",
    "transform!(fx, :pdbpath => ByRow(s -> parse(Int, split(basename(s),\".\")[1])) => :id)\n",
    "sort!(fx, :id)\n",
    "fxknn = fx\n",
    "\n",
    "size(fx)\n"
   ]
  },
  {
   "cell_type": "code",
   "execution_count": null,
   "metadata": {},
   "outputs": [],
   "source": [
    "fxdir(folding_trajpdb, \"fxdata.tsv\", 3, \"seq\", 0.8)\n",
    "fx = CSV.read(\"fxdata.tsv\", DataFrame, delim = \"\\t\") ; rm(\"fxdata.tsv\")\n",
    "transform!(fx, :pdbpath => ByRow(s -> parse(Int, split(basename(s),\".\")[1])) => :id)\n",
    "sort!(fx, :id)\n",
    "fxseq = fx\n",
    "\n",
    "size(fx)"
   ]
  },
  {
   "cell_type": "code",
   "execution_count": null,
   "metadata": {},
   "outputs": [],
   "source": [
    "p1 = pltdots(fxseq.fxity, \"foldexity seq\")\n",
    "p2 = pltdots(fxknn.fxity, \"foldexity knn\")\n",
    "plot(p1, p2, layout=(2,1), size = (500, 300))"
   ]
  },
  {
   "cell_type": "code",
   "execution_count": null,
   "metadata": {},
   "outputs": [],
   "source": [
    "scatter(x, fxseq.fxity)"
   ]
  }
 ],
 "metadata": {
  "kernelspec": {
   "display_name": "Julia 1.11.3",
   "language": "julia",
   "name": "julia-1.11"
  },
  "language_info": {
   "file_extension": ".jl",
   "mimetype": "application/julia",
   "name": "julia",
   "version": "1.11.3"
  }
 },
 "nbformat": 4,
 "nbformat_minor": 2
}
