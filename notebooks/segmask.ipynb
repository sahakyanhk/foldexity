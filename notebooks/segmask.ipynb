{
 "cells": [
  {
   "cell_type": "code",
   "execution_count": 1,
   "metadata": {},
   "outputs": [],
   "source": [
    "using DataFrames\n",
    "using Statistics\n",
    "using Random\n"
   ]
  },
  {
   "cell_type": "code",
   "execution_count": null,
   "metadata": {},
   "outputs": [],
   "source": [
    "function df2fasta(df, id, seq, path)\n",
    "    open(path, \"a\") do io\n",
    "        for (id, seq) = zip(df[!,id], df[!,seq])\n",
    "            write(io, \">$id\\n$seq\\n\")\n",
    "        end\n",
    "    end\n",
    "end\n",
    "\n",
    "function fasta2df(input::String)\n",
    "    df = DataFrame([[],[]], [\"id\", \"seq\"])\n",
    "\n",
    "    id = \"\"\n",
    "    sequence = \"\"\n",
    "\n",
    "    for line in eachline(open(input))\n",
    "        if startswith(line, \">\") # is header\n",
    "            if !isempty(sequence)\n",
    "                push!(df, [id, sequence])\n",
    "                sequence=\"\"\n",
    "            end\n",
    "            id = string(split(line, \">\")[2])\n",
    "        else    # header\n",
    "            sequence  = sequence * line           \n",
    "        end\n",
    "    end\n",
    "    push!(df, [id, sequence])\n",
    "    return df\n",
    "end\n",
    "\n",
    "function structure2fs3di(input::String, output::String = \"tmp\", keep_3di::Bool=false)\n",
    "\n",
    "    run(`../bin/foldseek structureto3didescriptor -v 0 $input $output`)\n",
    "    df = CSV.read(output, DataFrame, delim=\"\\t\", header=[\"id\",\"seqaa\", \"seq3di\", \"coords\"])\n",
    "    if !keep_3di\n",
    "        rm.([output, \"$output.dbtype\"], force=true)\n",
    "    end\n",
    "\n",
    "    return df\n",
    "end\n",
    "\n",
    "function shuffle_string(s) \n",
    "    return String(shuffle(collect(s)))\n",
    "end\n",
    "\n",
    "function segmasker(input)\n",
    "    run(`../bin/segmasker -in $input -out tmp -infmt fasta -outfmt fasta`)\n",
    "    df = fasta2df(\"tmp\")\n",
    "    rm(\"tmp\", force=true)\n",
    "    return df\n",
    "end\n",
    "\n"
   ]
  },
  {
   "cell_type": "code",
   "execution_count": 93,
   "metadata": {},
   "outputs": [],
   "source": [
    "df = structure2fs3di(\"../../scop40PDB\", \"fs.3di\", true)\n",
    "select!(df, Not([:coords]));\n",
    "transform!(df, :id => ByRow(s -> s[1:7]) => :id)\n",
    "print()"
   ]
  },
  {
   "cell_type": "code",
   "execution_count": null,
   "metadata": {},
   "outputs": [],
   "source": [
    "df[!, :shufl_seqaa] = map(shuffle_string, df.seqaa)\n",
    "df[!, :shufl_seq3di] = map(shuffle_string, df.seq3di)\n",
    "first(df, 3)"
   ]
  },
  {
   "cell_type": "code",
   "execution_count": 98,
   "metadata": {},
   "outputs": [],
   "source": [
    "open(\"scop40_segmask.tsv\", \"a\") do io\n",
    "write(io, \"data\\tmasked_total\\tmasked_relative\\n\")\n",
    "\n",
    "for col in [\"seqaa\", \"seq3di\", \"shufl_seqaa\", \"shufl_seq3di\"]\n",
    "    \n",
    "    df2fasta(df, \"id\", col, \"scop40.$col.fasta\")\n",
    "    tmpdf = segmasker(\"scop40.$col.fasta\")\n",
    "    \n",
    "    count = 0\n",
    "    megaseq = join(tmpdf.seq)\n",
    "\n",
    "    for c in megaseq\n",
    "        if islowercase(c)\n",
    "            count+=1\n",
    "        end\n",
    "    end \n",
    "\n",
    "    write(io, \"$col\\t$count\\t$(count/length(megaseq))\\n\")\n",
    "    \n",
    "end\n",
    "end"
   ]
  }
 ],
 "metadata": {
  "kernelspec": {
   "display_name": "Julia 1.11.3",
   "language": "julia",
   "name": "julia-1.11"
  },
  "language_info": {
   "file_extension": ".jl",
   "mimetype": "application/julia",
   "name": "julia",
   "version": "1.11.3"
  }
 },
 "nbformat": 4,
 "nbformat_minor": 2
}
