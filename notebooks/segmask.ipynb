{
 "cells": [
  {
   "cell_type": "code",
   "execution_count": 1,
   "metadata": {},
   "outputs": [],
   "source": [
    "using DataFrames\n",
    "using Statistics\n",
    "using Random\n"
   ]
  },
  {
   "cell_type": "code",
   "execution_count": 49,
   "metadata": {},
   "outputs": [
    {
     "data": {
      "text/plain": [
       "segmasker (generic function with 1 method)"
      ]
     },
     "metadata": {},
     "output_type": "display_data"
    }
   ],
   "source": [
    "function df2fasta(df, id, seq, path)\n",
    "    open(path, \"a\") do io\n",
    "        for (id, seq) = zip(df[!,id], df[!,seq])\n",
    "            write(io, \">$id\\n$seq\\n\")\n",
    "        end\n",
    "    end\n",
    "end\n",
    "\n",
    "function fasta2df(input::String)\n",
    "    df = DataFrame([[],[]], [\"id\", \"seq\"])\n",
    "\n",
    "    id = \"\"\n",
    "    sequence = \"\"\n",
    "\n",
    "    for line in eachline(open(input))\n",
    "        if startswith(line, \">\") # is header\n",
    "            if !isempty(sequence)\n",
    "                push!(df, [id, sequence])\n",
    "                sequence=\"\"\n",
    "            end\n",
    "            id = string(split(line, \">\")[2])\n",
    "        else    # header\n",
    "            sequence  = sequence * line           \n",
    "        end\n",
    "    end\n",
    "    push!(df, [id, sequence])\n",
    "    return df\n",
    "end\n",
    "\n",
    "function structure2fs3di(input::String, output::String = \"tmp\", keep_3di::Bool=false)\n",
    "\n",
    "    run(`../bin/foldseek structureto3didescriptor -v 0 $input $output`)\n",
    "    df = CSV.read(output, DataFrame, delim=\"\\t\", header=[\"id\",\"seqaa\", \"seq3di\", \"coords\"])\n",
    "    if !keep_3di\n",
    "        rm.([output, \"$output.dbtype\"], force=true)\n",
    "    end\n",
    "\n",
    "    return df\n",
    "end\n",
    "\n",
    "function shuffle_string(s) \n",
    "    return String(shuffle(collect(s)))\n",
    "end\n",
    "\n",
    "function segmasker(input)\n",
    "    run(`../bin/segmasker -in $input -out tmp -infmt fasta -outfmt fasta`)\n",
    "    df = fasta2df(\"tmp\")\n",
    "    rm(\"tmp\", force=true)\n",
    "    return df\n",
    "end\n",
    "\n"
   ]
  },
  {
   "cell_type": "code",
   "execution_count": 93,
   "metadata": {},
   "outputs": [],
   "source": [
    "df = structure2fs3di(\"../../scop40PDB\", \"fs.3di\", true)\n",
    "select!(df, Not([:coords]));\n",
    "transform!(df, :id => ByRow(s -> s[1:7]) => :id)\n",
    "print()"
   ]
  },
  {
   "cell_type": "code",
   "execution_count": 94,
   "metadata": {},
   "outputs": [
    {
     "data": {
      "text/html": [
       "<div><div style = \"float: left;\"><span>3×5 DataFrame</span></div><div style = \"clear: both;\"></div></div><div class = \"data-frame\" style = \"overflow-x: scroll;\"><table class = \"data-frame\" style = \"margin-bottom: 6px;\"><thead><tr class = \"header\"><th class = \"rowNumber\" style = \"font-weight: bold; text-align: right;\">Row</th><th style = \"text-align: left;\">id</th><th style = \"text-align: left;\">seqaa</th><th style = \"text-align: left;\">seq3di</th><th style = \"text-align: left;\">shufl_seqaa</th><th style = \"text-align: left;\">shufl_seq3di</th></tr><tr class = \"subheader headerLastRow\"><th class = \"rowNumber\" style = \"font-weight: bold; text-align: right;\"></th><th title = \"String15\" style = \"text-align: left;\">String15</th><th title = \"String\" style = \"text-align: left;\">String</th><th title = \"String\" style = \"text-align: left;\">String</th><th title = \"String\" style = \"text-align: left;\">String</th><th title = \"String\" style = \"text-align: left;\">String</th></tr></thead><tbody><tr><td class = \"rowNumber\" style = \"font-weight: bold; text-align: right;\">1</td><td style = \"text-align: left;\">d12asa_</td><td style = \"text-align: left;\">AYIAKQRQISFVKSHFSRQLEERLGLIEVQAPILSRVGDGTQDNLSGAEKAVQVKVKALPDAQFEVVHSLAKWKRQTLGQHDFSAGEGLYTHMKALRPDEDRLSPLHSVYVDQWDWERVMGDGERQFSTLKSTVEAIWAGIKATEAAVSEEFGLAPFLPDQIHFVHSQELLSRYPDLDAKGRERAIAKDLGAVFLVGIGGKLSDGHRHDVRAPDYDDWSTPSELGHAGLNGDILVWNPVLEDAFELSSMGIRVDADTLKHQLALTGDEDRLELEWHQALLRGEMPQTIGGGIGQSRLTMLLLQLPHIGQVQAGVWPAAVRESVPSLL</td><td style = \"text-align: left;\">DVVVLLVLLVLLLVLLVVLCCVLQVAEEDDDDQKDWPFFLQADCWLVPFDFAWDQDPVCRPTTMGTGPWRLLVQQLVCLVVVPDASHKYWYFDWGAGVPDPDAFLADFSIFTWRWMKGFHDPPCPAQVVVVVVVFSSVVSLVVSLVVCCPVVVDDHDADPGAEEDEPQVLCVVCVPDALQVSLQVCQVVTFKYWYFQADDQYPPGDGSHHGDLFWFFNACDHVNGGGGFWTWIWGQQPLQNGIATFKIWGWTDALVSSVVRCVVSVNPVSCPHNSNVCRNVPSGGGMIIIIGTSLSSSCRSVVHRHSQQSDPGDDDVVCVVVDPNGD</td><td style = \"text-align: left;\">VDLRTSGQLTVFTLDFLDLGLKVLVEMDRHIHRGAWGAQAKILQSAHILKKRRQDTLPGLSQRQKSEVEADWDEELWSYRLPVSNQFESVIDGPVTNSDGWVGAQFWDRAALSGALRHPLGEESGYAEKIEEFHNKADMWPHLGVLLIVLEYEATELQGDVQVARKQGFQLRQGAAGDGEPVDATLSYLLVAMHAPDKTDMGSWDSLSEMELFWFDESKAVGQHAQRALIKLTSLVSEVKISIIPEIADGTGQAQKQYHVIRVASDHAVPQLLRRGFVGHGDALADLRLGSLFRHPKRQLGDPPIGESSHLILAEPPLVTGDERAVG</td><td style = \"text-align: left;\">GPGLVLPDQDVVWDDVWLVVFVEFVDSACCPWVDLACQNAHDVVWLRVQTVHVHQVVCLQLDELSWAISVNVPYMTSIDPSGVPPKDVAHLLAARDDSGPWGPKWYLVFVDSHYHVDSGPHHVQSGPSFCEGFESGDNIPDTQFSDDLTAFQCISFYLGDLMVVFLQVSNQVDLCVVDLHDQWGVTVWGPNLQLKDCNPVLDVPPDTSNICVLDLFGVFQDSRSIGQVCCVAPLVRSDAWGRFVQCVAFARSTIWPDFDVKQVDPVGVYPAQVWPVWCWVDNVFCRTGVVVVFAVDVSCGFTSLVQVMPKALCCIVGGVGELDGPLW</td></tr><tr><td class = \"rowNumber\" style = \"font-weight: bold; text-align: right;\">2</td><td style = \"text-align: left;\">d16vpa_</td><td style = \"text-align: left;\">SRMPSPPMPVPPAALFNRLLDDLGFSAGPALCTMLDTWNEDLFSALPTNADLYRECKFLSTLPSDVVEWGDAYVPERTQIDIRAHGDVAFPTLPATRDGLGLYYEALSRFFHAELRAREESYRTVLANFCSALYRYLRASVRQLHRQAHMRGRDRDLGEMLRATIADRYYRETARLARVLFLHLYLFLTREILWAAYAEQMMRPDLFDCLCCDLESWRQLAGLFQPFMFVNGALTVRGVPIEARRLRELNHIREHLNLPLVRSAATEEPGAPLTTPPTLHGNQARASGYFMVLIRAKLDSYSSAAPRLSFL</td><td style = \"text-align: left;\">DQQDAQDAQDDLVVLLVVLCVSLVNPCLVVLLVVLFQAQDQQPPVDDLCLVLQQPPQLLDLQLVSVVVCLVPDDADSPPGGLQDAFPQDQDADDPALVCPLVQQVSNVVRLVRRLVRNVNRLVSNLVSSLNSHLVNLLVVLVVVQVVCVVVVHHDDSVVSSSVVCNVPSVVSSLVSLLSSVVSSVLVSLQVSQVVVVVNVVVCCNNAQFKAWEAQDVSVVLHSHDSAQGRANAYYYVPHGDALQVLQASQQSCVVSVHRGRDYNVHHDVPDDSHDHDGGDVVHHTNSNSSSVSSVSNSCSNVHDRIDIDGD</td><td style = \"text-align: left;\">QGYAFCRVESHTVYSYSRFGLAFPLMGSRTLLPERKASLLLRRRALMTGLWLLASLFIMKAAEMFTPEPEELGVCLTLADRARLFALQMLTRGAADTEHRMFFIFLDTRFRHRTSLNIRRYDDAAPNFDYVTAQQEVPAYSALLHPFRDGNRDAHPMTHAFDPNRGILAASQETAWRRLNLDALLYACSELLLFSVPLEINLLYLEIVPLPRQLQHDVSGREPHYDPEAPAAFRADSDPTRNVCPRAVLDLRAIWSYLLETCPLGEMMWYSDRYALCSDVYAFSRLTETLPPAGNVREPGRVARGLGALRR</td><td style = \"text-align: left;\">LNDVVFVNDSWHVPCVHHEDVCQSVRQVQQLPGLCNDVAVVAQHVRLLNQLQYRRGSVSNCAVDVNDPVARVTSQNHAHVDLVDLQNSGCDSYSVDSALQSPLCQLVNGSLHCVVHSVDSVVVSQCLNSVLVAVVYVCLDYPNALLDHVGFLDSPRVDPVVVHDDVRSSPLLDSQDVVQQSVVDQSVVSNVDVSVIIRPSCSGLPDVNLDKDDSLVVAQQLVPLVDGVNVLLPCVVAALVALVQVVVVVSSSSSQQLDVVQVVQQRHAVQSLSHVDVNSHDLSDLLSQDVLVLNVDSFPASPGHDQAVNVL</td></tr><tr><td class = \"rowNumber\" style = \"font-weight: bold; text-align: right;\">3</td><td style = \"text-align: left;\">d1914a1</td><td style = \"text-align: left;\">FQTWEEFSRAAEKLYLADPMKVRVVLKYRHVDGNLCIKVTDDLVCLVYRTDQAQDVKKIEKFHSQLMRLMVAKESRNV</td><td style = \"text-align: left;\">DPDPVVLLVVLVCQCVVDVVQKDWDWDDDVVVQKIKIWIDSVPDIGMDIDNDPVCPVVSVVSSVVSVVVSPDDDPDDD</td><td style = \"text-align: left;\">LMQIAVKKDFVLVLRQRFKEFTLEQDAKLVRLRDDNKDIAKEPQAEMTSRKEVLGACMWTNVSHCLVRHYVYYVVDSK</td><td style = \"text-align: left;\">VPVVSDWVDVICVVVLVDPVIVLVMWDDVIVDDSVSIDWPQPDVDVSVQDPLDKCVDDPCDVDIKVNKVSDVGQPSDD</td></tr></tbody></table></div>"
      ],
      "text/latex": [
       "\\begin{tabular}{r|ccc}\n",
       "\t& id & seqaa & \\\\\n",
       "\t\\hline\n",
       "\t& String15 & String & \\\\\n",
       "\t\\hline\n",
       "\t1 & d12asa\\_ & AYIAKQRQISFVKSHFSRQLEERLGLIEVQAPILSRVGDGTQDNLSGAEKAVQVKVKALPDAQFEVVHSLAKWKRQTLGQHDFSAGEGLYTHMKALRPDEDRLSPLHSVYVDQWDWERVMGDGERQFSTLKSTVEAIWAGIKATEAAVSEEFGLAPFLPDQIHFVHSQELLSRYPDLDAKGRERAIAKDLGAVFLVGIGGKLSDGHRHDVRAPDYDDWSTPSELGHAGLNGDILVWNPVLEDAFELSSMGIRVDADTLKHQLALTGDEDRLELEWHQALLRGEMPQTIGGGIGQSRLTMLLLQLPHIGQVQAGVWPAAVRESVPSLL & $\\dots$ \\\\\n",
       "\t2 & d16vpa\\_ & SRMPSPPMPVPPAALFNRLLDDLGFSAGPALCTMLDTWNEDLFSALPTNADLYRECKFLSTLPSDVVEWGDAYVPERTQIDIRAHGDVAFPTLPATRDGLGLYYEALSRFFHAELRAREESYRTVLANFCSALYRYLRASVRQLHRQAHMRGRDRDLGEMLRATIADRYYRETARLARVLFLHLYLFLTREILWAAYAEQMMRPDLFDCLCCDLESWRQLAGLFQPFMFVNGALTVRGVPIEARRLRELNHIREHLNLPLVRSAATEEPGAPLTTPPTLHGNQARASGYFMVLIRAKLDSYSSAAPRLSFL & $\\dots$ \\\\\n",
       "\t3 & d1914a1 & FQTWEEFSRAAEKLYLADPMKVRVVLKYRHVDGNLCIKVTDDLVCLVYRTDQAQDVKKIEKFHSQLMRLMVAKESRNV & $\\dots$ \\\\\n",
       "\\end{tabular}\n"
      ],
      "text/plain": [
       "\u001b[1m3×5 DataFrame\u001b[0m\n",
       "\u001b[1m Row \u001b[0m│\u001b[1m id       \u001b[0m\u001b[1m seqaa                             \u001b[0m\u001b[1m seq3di                    \u001b[0m ⋯\n",
       "     │\u001b[90m String15 \u001b[0m\u001b[90m String                            \u001b[0m\u001b[90m String                    \u001b[0m ⋯\n",
       "─────┼──────────────────────────────────────────────────────────────────────────\n",
       "   1 │ d12asa_   AYIAKQRQISFVKSHFSRQLEERLGLIEVQAP…  DVVVLLVLLVLLLVLLVVLCCVLQVA ⋯\n",
       "   2 │ d16vpa_   SRMPSPPMPVPPAALFNRLLDDLGFSAGPALC…  DQQDAQDAQDDLVVLLVVLCVSLVNP\n",
       "   3 │ d1914a1   FQTWEEFSRAAEKLYLADPMKVRVVLKYRHVD…  DPDPVVLLVVLVCQCVVDVVQKDWDW\n",
       "\u001b[36m                                                               3 columns omitted\u001b[0m"
      ]
     },
     "metadata": {},
     "output_type": "display_data"
    }
   ],
   "source": [
    "df[!, :shufl_seqaa] = map(shuffle_string, df.seqaa)\n",
    "df[!, :shufl_seq3di] = map(shuffle_string, df.seq3di)\n",
    "first(df, 3)"
   ]
  },
  {
   "cell_type": "code",
   "execution_count": 98,
   "metadata": {},
   "outputs": [],
   "source": [
    "open(\"scop40_segmask.tsv\", \"a\") do io\n",
    "write(io, \"data\\tmasked_total\\tmasked_relative\\n\")\n",
    "\n",
    "for col in [\"seqaa\", \"seq3di\", \"shufl_seqaa\", \"shufl_seq3di\"]\n",
    "    \n",
    "    df2fasta(df, \"id\", col, \"scop40.$col.fasta\")\n",
    "    tmpdf = segmasker(\"scop40.$col.fasta\")\n",
    "    \n",
    "    count = 0\n",
    "    megaseq = join(tmpdf.seq)\n",
    "\n",
    "    for c in megaseq\n",
    "        if islowercase(c)\n",
    "            count+=1\n",
    "        end\n",
    "    end \n",
    "\n",
    "    write(io, \"$col\\t$count\\t$(count/length(megaseq))\\n\")\n",
    "    \n",
    "end\n",
    "end"
   ]
  }
 ],
 "metadata": {
  "kernelspec": {
   "display_name": "Julia 1.11.3",
   "language": "julia",
   "name": "julia-1.11"
  },
  "language_info": {
   "file_extension": ".jl",
   "mimetype": "application/julia",
   "name": "julia",
   "version": "1.11.3"
  }
 },
 "nbformat": 4,
 "nbformat_minor": 2
}
