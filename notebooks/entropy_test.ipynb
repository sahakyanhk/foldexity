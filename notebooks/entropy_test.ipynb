{
 "cells": [
  {
   "cell_type": "code",
   "execution_count": null,
   "metadata": {},
   "outputs": [],
   "source": [
    "using CSV\n",
    "using DataFrames\n",
    "using Statistics\n",
    "using Random\n",
    "\n",
    "using Plots\n",
    "using Plots.PlotMeasures\n",
    "using StatsPlots, KernelDensity\n",
    "\n",
    "using NCBITaxonomy\n",
    "\n"
   ]
  },
  {
   "cell_type": "code",
   "execution_count": null,
   "metadata": {},
   "outputs": [],
   "source": [
    "#cd(\"/vf/users/saakyanh2/WD/fx/foldexity\")\n",
    "include(\"../src/fxio.jl\")\n",
    "include(\"../src/entropy.jl\")\n",
    "include(\"../src/foldexity.jl\")\n",
    "\n"
   ]
  },
  {
   "cell_type": "markdown",
   "metadata": {},
   "source": [
    "# Fold entropy"
   ]
  },
  {
   "cell_type": "code",
   "execution_count": null,
   "metadata": {},
   "outputs": [],
   "source": [
    "scopdata = CSV.read(\"../data/astral.id\", DataFrame, header=1)\n",
    "\n",
    "ids = []\n",
    "lineages = []\n",
    "\n",
    "for (id, taxid) in zip(scopdata.id, scopdata.taxid)\n",
    "    \n",
    "    try\n",
    "        push!(lineages, lineage(taxon(taxid)))\n",
    "        push!(ids, id) \n",
    "    catch e\n",
    "        println(e)\n",
    "    end\n",
    "end"
   ]
  },
  {
   "cell_type": "code",
   "execution_count": null,
   "metadata": {},
   "outputs": [],
   "source": [
    "domains = [taxid[3].name for taxid=lineages]\n",
    "\n",
    "domaindata = DataFrame(id=ids, domain=domains)\n",
    "\n",
    "e = \"Eukaryota\"\n",
    "b = \"Bacteria\" \n",
    "a = \"Archaea\" \n",
    "\n",
    "size(domaindata)"
   ]
  },
  {
   "cell_type": "code",
   "execution_count": null,
   "metadata": {},
   "outputs": [],
   "source": [
    "foldseek3di = structure2fs3di(\"../../scop402\")\n",
    "select!(foldseek3di, Not([:coords]));\n",
    "transform!(foldseek3di, :id => ByRow(s -> s[1:7]) => :id)\n",
    "filter!(row -> all(col -> all(c -> !(c in col), ['X', 'B', 'Z']), row[[:seqaa, :seq3di]]), foldseek3di)\n",
    "size(foldseek3di)\n"
   ]
  },
  {
   "cell_type": "code",
   "execution_count": null,
   "metadata": {},
   "outputs": [],
   "source": [
    "reseekmu = structure2rsmu(\"../../scop402\")\n",
    "transform!(reseekmu, :id => ByRow(s -> s[1:7]) => :id)\n",
    "size(reseekmu)"
   ]
  },
  {
   "cell_type": "code",
   "execution_count": null,
   "metadata": {},
   "outputs": [],
   "source": [
    "# # will run for ~ 10 min\n",
    "# dssp = structure2dssp(\"../../scop402\")\n",
    "# CSV.write(\"../data/dssp.csv\",  dssp, writeheader=true)\n",
    "\n",
    "dssp = CSV.read(\"../data/dssp.csv\", DataFrame, header=1)\n",
    "size(dssp)"
   ]
  },
  {
   "cell_type": "code",
   "execution_count": null,
   "metadata": {},
   "outputs": [],
   "source": [
    "k=12\n",
    "foldseek3di[!,:H_SHaa ]   = mean.(entropy_profile.(shuffle_string.(foldseek3di.seqaa), k))\n",
    "foldseek3di[!,:H_SH3Di ]  = mean.(entropy_profile.(shuffle_string.(foldseek3di.seq3di), k))\n",
    "reseekmu[!,:H_SHmu ]   = mean.(entropy_profile.(shuffle_string.(reseekmu.seq), k))\n",
    "dssp[!, :H_SHss] = mean.(entropy_profile.(shuffle_string.(dssp.ss), k))\n",
    "\n",
    "foldseek3di[!,:H_aa ]   = mean.(entropy_profile.(foldseek3di.seqaa, k))\n",
    "foldseek3di[!,:H_3Di ]  = mean.(entropy_profile.(foldseek3di.seq3di, k))\n",
    "reseekmu[!,:H_mu ]   = mean.(entropy_profile.(reseekmu.seq, k))\n",
    "dssp[!,:H_ss ]   = mean.(entropy_profile.(dssp.ss, k))\n",
    "\n",
    "\n",
    "k=1\n",
    "foldseek3di[!,:LZ_aa ]   = lz76.(foldseek3di.seqaa, k)\n",
    "foldseek3di[!,:LZ_3Di ]  = lz76.(foldseek3di.seq3di, k)\n",
    "reseekmu[!,:LZ_mu ]   = lz76.(reseekmu.seq, k)\n",
    "dssp[!,:LZ_ss ]   = lz76.(dssp.ss, k)\n",
    "\n",
    "\n",
    "size(foldseek3di)"
   ]
  },
  {
   "cell_type": "code",
   "execution_count": null,
   "metadata": {},
   "outputs": [],
   "source": [
    "# output = \"../data/scop402fs4c1.tsv\"\n",
    "# fxdir(\"../../scop402\", output, 3, \"seq\", 0.8)\n",
    "# fx = CSV.read(output, DataFrame, delim = \"\\t\") ; rm(\"fxdata.tsv\")\n",
    "# transform!(fx, :pdbpath => ByRow(s -> parse(Int, split(basename(s),\".\")[1])) => :id)\n",
    "# sort!(fx, :id)\n",
    "# fxseq = fx\n",
    "\n",
    "# size(fx)\n"
   ]
  },
  {
   "cell_type": "code",
   "execution_count": null,
   "metadata": {},
   "outputs": [],
   "source": [
    "fxdata = CSV.read(\"../data/scop402fs4c1.tsv\", DataFrame, delim=\"\\t\", header=1)\n",
    "\n",
    "try\n",
    "    transform!(fxdata, :pdbpath => ByRow(s -> basename(s)[1:7]) => :id) \n",
    "catch \n",
    "end\n",
    "dropmissing!(fxdata)\n",
    "\n",
    "fxdata = fxdata[(fxdata.aver_rmsd .> 0.1) .& (fxdata.aver_rmsd .< 7) ,:]\n",
    "\n",
    "\n",
    "df = innerjoin(fxdata, foldseek3di, reseekmu, dssp, scopdata,  domaindata, on=:id)\n",
    "df[!,:plen] = length.(df.seqaa)\n",
    "\n",
    "df = df[!, [:id, :scop, :domain, :taxid, :plen, :fxity, :H_aa, :H_3Di, :H_mu, :H_ss, :H_SHaa, :H_SH3Di, :H_SHmu, :H_SHss, :seqaa, :seq3di, :LZ_aa, :LZ_3Di, :LZ_mu, :LZ_ss]]\n",
    "\n",
    "size(df)"
   ]
  },
  {
   "cell_type": "code",
   "execution_count": null,
   "metadata": {},
   "outputs": [],
   "source": [
    "function plothist(aa, ylimit = (0, 1), label = \"\", kwargs...)\n",
    "    alpha = 0.5\n",
    "    p = histogram(aa, bins = 50, xlabel=label, ylabel=\"PDF\", normalize=:pdf, labels=label, alpha=alpha)\n",
    "    p = plot!(kde(aa).x, kde(aa).density, linewidth=3, label=\"KDE\", ylimit = ylimit, color=:blue)\n",
    "    return p\n",
    "end\n",
    "\n",
    "p1 = plothist(fxdata[:, :fxity], (0, 0.7) ,\"Foldexity\")\n",
    "p2 = plothist(fxdata[:, :aver_rmsd], (0, 2) , \"Mean RMSD\")\n",
    "p3 = plothist(fxdata[:, :nclusts], (0, 0.015) , \"Num clusters\")\n",
    "p4 = plothist(fxdata[:, :norm_nclusts], (0, 3.5) , \"Norm num clusters\")\n",
    "\n",
    "plot(p1, p2, p3, p4, layout=(1, 4), size=(1200, 350), dpi=500, ytickfontsize=6, xtickfontsize=6, margins = 8mm)\n",
    "\n"
   ]
  },
  {
   "cell_type": "code",
   "execution_count": null,
   "metadata": {},
   "outputs": [],
   "source": [
    "function scatter_corr(x, y)    \n",
    "    s = scatter(x, y, label=\"R^2 = $(round(cor(x, y), sigdigits=2))\", markershape=:circle, markersize = 2, alpha=0.5)\n",
    "    return s\n",
    "end\n",
    "\n",
    "\n",
    "s1 = scatter_corr(df.H_aa, df.plen)\n",
    "s2 = scatter_corr(df.H_3Di, df.plen)\n",
    "s3 = scatter_corr(df.H_mu, df.plen)\n",
    "s4 = scatter_corr(df.H_aa, df.H_3Di)\n",
    "s5 = scatter_corr(df.H_aa, df.H_mu)\n",
    "s6 = scatter_corr(df.H_3Di, df.H_mu)\n",
    "s7 = scatter_corr(df.H_ss, df.H_aa)\n",
    "s8 = scatter_corr(df.H_ss, df.H_mu)\n",
    "s9 = scatter_corr(df.H_ss, df.H_3Di)\n",
    "s10 = scatter_corr(df.fxity, df.H_ss)\n",
    "s11 = scatter_corr(df.fxity, df.H_mu)\n",
    "s12 = scatter_corr(df.fxity, df.H_3Di)\n",
    "\n",
    "plot(s1, s2, s3, s4, s5, s6, s7, s8, s9, s10, s11, s12, layout=(4, 3), size=(900, 1200), dpi=500, margins = 4mm, ytickfontsize=6, xtickfontsize=6, \n",
    "    ylabel=[\"Protein length\" \"Protein length\" \"Protein length\" \"Entropy 3Di\" \"Entropy Mu\" \"Entropy Mu\" \"Entropy AA\" \"Entropy Mu\" \"Entropy 3Di\" \"Entropy DSSP\" \"Entropy Mu\" \"Entropy 3Di\"], \n",
    "    xlabel=[\"Entropy AA\" \"Entropy 3Di\" \"Entropy Mu\" \"Entropy AA\" \"Entropy AA\" \"Entropy 3Di\" \"DSSP\" \"DSSP\" \"DSSP\" \"Fxity\" \"Fxity\" \"Fxity\"])"
   ]
  },
  {
   "cell_type": "code",
   "execution_count": null,
   "metadata": {},
   "outputs": [],
   "source": [
    "function plothist(aa, fs3di, mu, ss)\n",
    "    alpha = 0.5\n",
    "    p = histogram([aa, fs3di, mu, ss], bins=50, xlabel=\"Entropy\",  ylabel=\"PDF\", normalize=:pdf, labels=[\"AA\" \"3Di\" \"Mu\" \"SS\"], alpha=alpha)\n",
    "    p = plot!(kde(aa).x, kde(aa).density, linewidth=3, label=\"KDE AA\", color=:blue)\n",
    "    p = plot!(kde(fs3di).x, kde(fs3di).density, linewidth=3, label=\"KDE 3Di\", color=:orange)\n",
    "    p = plot!(kde(mu).x, kde(mu).density, linewidth=3, label=\"KDE Mu\", color=:green)\n",
    "    p = plot!(kde(ss).x, kde(ss).density, linewidth=3, label=\"KDE Mu\", color=:violet)\n",
    "    return p\n",
    "end\n",
    "\n",
    "p1 = plothist(df[:, :H_aa], df[:, :H_3Di], df[:, :H_mu], df[:, :H_ss])\n",
    "p2 = plothist(df[:, :H_SHaa], df[:, :H_SH3Di], df[:, :H_SHmu], df[:, :H_SHss])\n",
    "\n",
    "plot(p1, p2, layout=(2, 1), size=(500,700), dpi=500, ytickfontsize=6, xtickfontsize=6, xlimit=(0, 3.5), margins = 5mm)\n"
   ]
  },
  {
   "cell_type": "code",
   "execution_count": null,
   "metadata": {},
   "outputs": [],
   "source": [
    "elen = df[(df.domain .== e),:].plen\n",
    "blen = df[(df.domain .== b),:].plen\n",
    "\n",
    "\n",
    "function lengthhistogram(elen, blen, name=\"\")\n",
    "    h1 = histogram(elen, bins=50, label=\"euk\", alpha=0.3, normalize=:pdf,)\n",
    "    h1 = histogram!(blen, bins=50,  label=\"bac\", alpha=0.3, normalize=:pdf,xlabel=name, ylabel=\"PDF\", legend=:topright)\n",
    "    h1 = plot!(kde(elen).x, kde(elen).density, linewidth=3, label=\"euk KDE\", color=:blue)\n",
    "    h1 = plot!(kde(blen).x, kde(blen).density, linewidth=3, label=\"bac KDE\", color=:red)\n",
    "    return h1\n",
    "end\n",
    "\n",
    "h1=lengthhistogram(elen, blen, \"Length\")\n",
    "\n",
    "\n",
    "plot(h1,  margins = 5mm, dpi=100, size=(700,400), xtickfontsize=6, ytickfontsize=6, xlimit=(0, 900))"
   ]
  },
  {
   "cell_type": "code",
   "execution_count": null,
   "metadata": {},
   "outputs": [],
   "source": [
    "function entrohistogram(E, B, xname=\"\")\n",
    "    #h = histogram([E, B], bins=20, alpha=0.6, normalize=:pdf, ylabel=\"PDF\", label=[\"Eukaryota\" \"Bacteria\"])\n",
    "    h = plot(kde(E).x, kde(E).density, linewidth=3, label=\" Euk KDE \", color=:blue)\n",
    "    h = plot!(kde(B).x, kde(B).density, linewidth=3, label=\" Bac KDE \", color=:red, xlabel=xname)\n",
    "    vline!(h, [median(B)], lw=1, color=\"blue\", label=\" Median \", linestyle=:dash)\n",
    "    vline!(h, [median(E)], lw=1, color=\"red\", label=\" Median \", linestyle=:dash)\n",
    "    return h\n",
    "end\n",
    "\n",
    "H_Eaa = df[df.domain .== e,:].H_aa     \n",
    "H_Baa = df[df.domain .== b,:].H_aa     \n",
    "H_E3Di = df[df.domain .== e,:].H_3Di   \n",
    "H_B3Di = df[df.domain .== b,:].H_3Di\n",
    "H_Emu = df[df.domain .== e,:].H_mu\n",
    "H_Bmu = df[df.domain .== b,:].H_mu   \n",
    "H_Ess = df[df.domain .== e,:].H_ss\n",
    "H_Bss = df[df.domain .== b,:].H_ss   \n",
    "H_Efx = df[df.domain .== e,:].fxity\n",
    "H_Bfx = df[df.domain .== b,:].fxity   \n",
    "\n",
    "\n",
    "h1 = entrohistogram(H_Eaa, H_Baa, \"AA\")\n",
    "h2 = entrohistogram(H_E3Di, H_B3Di, \"3Di\")\n",
    "h3 = entrohistogram(H_Emu, H_Bmu, \"Mu\")\n",
    "h4 = entrohistogram(H_Efx, H_Bfx, \"Fxity\")\n",
    "#h4 = entrohistogram(H_Ess, H_Bss, \"DSSP\")\n",
    "\n",
    "plot(h1, h2, h3, h4, layout=(1,4), margins = 5mm, dpi=500, size=(1000,300),\n",
    "    plot_title = \"Shannon Entropy and foldse\", xtickfontsize=6, ytickfontsize=6, legend=:topleft)"
   ]
  },
  {
   "cell_type": "markdown",
   "metadata": {},
   "source": [
    "# 3Di vs AA"
   ]
  },
  {
   "cell_type": "code",
   "execution_count": null,
   "metadata": {},
   "outputs": [],
   "source": [
    "k=1\n",
    "seqAA = vcat(split2kmers.(foldseek3di.seqaa, k)...)\n",
    "seq3Di = vcat(split2kmers.(foldseek3di.seq3di, k)...)\n",
    "seqMu = vcat(split2kmers.(reseekmu.seq, k)...)\n",
    "seqSS = vcat(split2kmers.(dssp.ss, k)...)\n",
    "\n",
    "\n",
    "ab1 = seqSS\n",
    "ab2 = seqMu\n",
    "\n",
    "first(ab1,3)"
   ]
  },
  {
   "cell_type": "code",
   "execution_count": null,
   "metadata": {},
   "outputs": [],
   "source": [
    "alphabet1 = sort(unique(ab1))\n",
    "alphabet2 = sort(unique(ab2))\n",
    "\n",
    "seqlen = length(join(ab1))\n",
    "\n",
    "alphabet_size1 = length(alphabet1)\n",
    "alphabet_size2 = length(alphabet2)\n",
    "\n",
    "mapdict1 = Dict{Any, Int}()\n",
    "mapdict2 = Dict{Any, Int}()\n",
    "\n",
    "for (i,j) = zip(alphabet1, 1:alphabet_size1)\n",
    "    mapdict1[i] = j\n",
    "end\n",
    "\n",
    "for (i,j) = zip(alphabet2, 1:alphabet_size2)\n",
    "    mapdict2[i] = j\n",
    "end\n",
    "\n",
    "\n",
    "token_pairs = [[i,j] for (i,j) = zip(ab1, ab2)]\n",
    "counts = Dict{Any, Int}()\n",
    "\n",
    "for pair in token_pairs\n",
    "    counts[pair] = get(counts, pair, 0) + 1\n",
    "end"
   ]
  },
  {
   "cell_type": "code",
   "execution_count": null,
   "metadata": {},
   "outputs": [],
   "source": [
    "m = Array{Float64}(undef, alphabet_size1, alphabet_size2)\n",
    "for i = alphabet1\n",
    "    for j = alphabet2\n",
    "        try\n",
    "            m[mapdict1[i], mapdict2[j]] = counts[[i, j]] / seqlen\n",
    "        catch\n",
    "            m[mapdict1[i], mapdict2[j]] = 0\n",
    "        end\n",
    "    end\n",
    "end"
   ]
  },
  {
   "cell_type": "code",
   "execution_count": null,
   "metadata": {},
   "outputs": [],
   "source": [
    "#Joint probability P(i, j) where i and j are letters in different alphabets\n",
    "i,j = size(m)\n",
    "heatmap(m, \n",
    "    color=:blues, \n",
    "    xlabel=\"3Di\", ylabel=\"DSSP\", \n",
    "    colorbar_title = \"\\nP(i,j)\",\n",
    "    \n",
    "    grid=true, \n",
    "    xticks=(1:alphabet_size2, alphabet2), yticks=(1:alphabet_size1, alphabet1), \n",
    "    size=([j,i] * 30),  \n",
    "    dpi=500, xrotation = 0, tickfontsize=8, margins = 5mm)\n",
    "\n",
    "vline!(0.5:(j+0.5), c=:grey)\n",
    "hline!(0.5:(i+0.5), c=:grey, legend=false)\n",
    "#savefig(\"heatmap_3di_vs_AA.png\")"
   ]
  },
  {
   "cell_type": "code",
   "execution_count": null,
   "metadata": {},
   "outputs": [],
   "source": []
  },
  {
   "cell_type": "code",
   "execution_count": null,
   "metadata": {},
   "outputs": [],
   "source": []
  },
  {
   "cell_type": "code",
   "execution_count": null,
   "metadata": {},
   "outputs": [],
   "source": []
  },
  {
   "cell_type": "markdown",
   "metadata": {},
   "source": [
    "# relative entropy of 2-mers"
   ]
  },
  {
   "cell_type": "code",
   "execution_count": null,
   "metadata": {},
   "outputs": [],
   "source": [
    "ALPHABET = foldseek3di.seqaa\n",
    "#ALPHABET = foldseek3di.seq3di\n",
    "#ALPHABET = reseekmu.seq\n",
    "#ALPHABET = dssp.ss\n",
    "\n",
    "seqaa1mers = vcat(split2kmers.(ALPHABET, 1)...)\n",
    "seqaa2mers = vcat(split2kmers.(ALPHABET, 2)...)\n",
    "\n",
    "len1mers = length(seqaa1mers)\n",
    "len2mers = length(seqaa2mers)\n",
    "\n",
    "alphabet = sort(unique(seqaa1mers))\n",
    "alphabet_size = length(alphabet)\n",
    "\n",
    "length(ALPHABET)"
   ]
  },
  {
   "cell_type": "code",
   "execution_count": null,
   "metadata": {},
   "outputs": [],
   "source": [
    "prob1 = Dict{Any, Float64}()\n",
    "for i in seqaa1mers\n",
    "    try\n",
    "        prob1[i] = get(prob1, i, 0) + 1\n",
    "    catch \n",
    "        prob1[i] = 0\n",
    "    end\n",
    "\n",
    "end\n"
   ]
  },
  {
   "cell_type": "code",
   "execution_count": null,
   "metadata": {},
   "outputs": [],
   "source": [
    "prob2 = Dict{Any, Float64}()\n",
    "\n",
    "for pair in seqaa2mers\n",
    "    try\n",
    "        prob2[pair] = get(prob2, pair, 0) + 1\n",
    "    catch \n",
    "        prob2[pair] = 0\n",
    "    end\n",
    "end\n",
    "\n"
   ]
  },
  {
   "cell_type": "code",
   "execution_count": null,
   "metadata": {},
   "outputs": [],
   "source": [
    "for A in alphabet\n",
    "    for B in alphabet\n",
    "    pair = A * B\n",
    "    try\n",
    "        prob2[pair] = prob2[pair]\n",
    "    catch \n",
    "        prob2[pair] = 0\n",
    "    end\n",
    "end\n",
    "end"
   ]
  },
  {
   "cell_type": "code",
   "execution_count": null,
   "metadata": {},
   "outputs": [],
   "source": [
    "for K in keys(prob1)\n",
    "    prob1[K] = prob1[K] / len1mers\n",
    "end\n",
    "\n",
    "for KK in keys(prob2)\n",
    "    prob2[KK] = prob2[KK] / len2mers\n",
    "end\n",
    "\n"
   ]
  },
  {
   "cell_type": "code",
   "execution_count": null,
   "metadata": {},
   "outputs": [],
   "source": [
    "prob1sorted = (sort(collect(Base.pairs(prob1)), by = x -> x[2], rev = false))\n",
    "alphabet_sorted = [prob1sorted[i][1] for i in 1:alphabet_size]\n",
    "\n",
    "mapdict = Dict{Any, Int}()\n",
    "for (i,j) = zip(alphabet_sorted, 1:alphabet_size)\n",
    "    mapdict[i] = j\n",
    "end\n"
   ]
  },
  {
   "cell_type": "code",
   "execution_count": null,
   "metadata": {},
   "outputs": [],
   "source": [
    "#r_ij = log(p_i) + log(p_j) - log(p_ij)\n",
    "#R = (1/N) sum_ij |r_ij| \n",
    "\n",
    "r = Dict{Any, Float64}()\n",
    "\n",
    "for A in alphabet\n",
    "    for B in alphabet\n",
    "        AB = A * B\n",
    "        r[AB] = log(prob1[A]) + log(prob1[B]) - log(prob2[AB])\n",
    "    end\n",
    "end\n",
    "\n",
    "m_logodds = Array{Float64}(undef, alphabet_size, alphabet_size)\n",
    "m_probs = copy(m_logodds)\n",
    "\n",
    "for i = alphabet\n",
    "    for j = alphabet\n",
    "        m_logodds[mapdict[i], mapdict[j]] = r[i * j] \n",
    "        m_probs[mapdict[i], mapdict[j]] = prob2[i * j] \n",
    "    end\n",
    "end\n",
    "\n"
   ]
  },
  {
   "cell_type": "code",
   "execution_count": null,
   "metadata": {},
   "outputs": [],
   "source": [
    "function alphabet_heatmap(m, cmap)\n",
    "    scale = 30\n",
    "    i,j = size(m)\n",
    "    h = heatmap(m, \n",
    "        color=cmap,  \n",
    "        xlabel=\"Res1\", ylabel=\"Res2\", \n",
    "        grid=true, \n",
    "        xticks=(1:alphabet_size, alphabet_sorted), yticks=(1:alphabet_size, alphabet_sorted), \n",
    "        \n",
    "        size=([j,i] * scale),  \n",
    "        margins = 5mm,\n",
    "        dpi=500, xrotation = 0, tickfontsize=8)\n",
    "\n",
    "    h = vline!(0.5:(j+0.5), c=:grey)\n",
    "    h = hline!(0.5:(i+0.5), c=:grey, legend=false)\n",
    "    #savefig(\"heatmap_3di_vs_AA.png\")\n",
    "    return h\n",
    "end\n"
   ]
  },
  {
   "cell_type": "code",
   "execution_count": null,
   "metadata": {},
   "outputs": [],
   "source": [
    "alphabet_heatmap(m_probs, :blues)\n",
    "\n",
    "plot!(plot_title = \"\\nFrequency of 2mers\",\n",
    "    #colorbar_title = \"P(i,j)\\n\",\n",
    ")"
   ]
  },
  {
   "cell_type": "code",
   "execution_count": null,
   "metadata": {},
   "outputs": [],
   "source": [
    "alphabet_heatmap(m_logodds, :bluesreds)\n",
    "plot!(plot_title = \"\\nlog-likelihood ratio\",\n",
    "   # colorbar_title = \"r(i,j)\\n\",\n",
    ")"
   ]
  },
  {
   "cell_type": "code",
   "execution_count": null,
   "metadata": {},
   "outputs": [],
   "source": []
  }
 ],
 "metadata": {
  "kernelspec": {
   "display_name": "Julia 1.11.3",
   "language": "julia",
   "name": "julia-1.11"
  },
  "language_info": {
   "file_extension": ".jl",
   "mimetype": "application/julia",
   "name": "julia",
   "version": "1.11.3"
  }
 },
 "nbformat": 4,
 "nbformat_minor": 2
}
