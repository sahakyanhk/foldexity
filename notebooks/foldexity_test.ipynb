{
 "cells": [
  {
   "cell_type": "code",
   "execution_count": 1,
   "metadata": {},
   "outputs": [],
   "source": [
    "using BenchmarkTools\n",
    "using Dates"
   ]
  },
  {
   "cell_type": "code",
   "execution_count": 2,
   "metadata": {},
   "outputs": [],
   "source": [
    "include(\"../src/foldexity.jl\")\n",
    "include(\"../src/entropy.jl\")"
   ]
  },
  {
   "cell_type": "code",
   "execution_count": 3,
   "metadata": {},
   "outputs": [
    {
     "name": "stdout",
     "output_type": "stream",
     "text": [
      "Starting foldexity...\n"
     ]
    },
    {
     "data": {
      "text/plain": [
       "(4.505749377134266, 1.3746020152515541, 86, 0.2621951219512195, 328, [0.0 0.3617100119590759 … 2.1261956691741943 2.1296846866607666; 0.3617100119590759 0.0 … 2.1606688499450684 2.2002992630004883; … ; 2.1261956691741943 2.1606688499450684 … 0.0 1.0081433057785034; 2.1296846866607666 2.2002992630004883 … 1.0081433057785034 0.0])"
      ]
     },
     "metadata": {},
     "output_type": "display_data"
    }
   ],
   "source": [
    "fxpdb(\"../testpdb/AF-Q8VCK6-F1-model_v4.pdb\", 3, 0.5) \n"
   ]
  },
  {
   "cell_type": "code",
   "execution_count": 236,
   "metadata": {},
   "outputs": [
    {
     "name": "stdout",
     "output_type": "stream",
     "text": [
      "5 files are collected \n",
      "Starting foldexity...\n"
     ]
    },
    {
     "name": "stderr",
     "output_type": "stream",
     "text": [
      "20.0%"
     ]
    },
    {
     "name": "stdout",
     "output_type": "stream",
     "text": [
      "Warning: ../testpdb/3EFM.pdb probably has missing residues, skipping\n"
     ]
    },
    {
     "name": "stderr",
     "output_type": "stream",
     "text": [
      "┣████████▋                                  ┫ 1/5 [00:00<Inf:Inf, InfGs/it]\n",
      "60.0%┣████████████████████████████▉                   ┫ 3/5 [00:01<00:01, 2it/s]\n",
      "80.0%┣██████████████████████████████████████▍         ┫ 4/5 [00:02<00:01, 2it/s]\n",
      "100.0%┣███████████████████████████████████████████████┫ 5/5 [00:02<00:00, 3it/s]\n"
     ]
    }
   ],
   "source": [
    "fxdir(\"../testpdb\", \"fxdata.tsv\", 4, 1.0)\n",
    "rm(\"fxdata.tsv\")"
   ]
  },
  {
   "cell_type": "code",
   "execution_count": 35,
   "metadata": {},
   "outputs": [
    {
     "data": {
      "text/plain": [
       "(7.309983070517202, 8.600171516053804, 220, 0.6811145510835913, 323, [0.0 12.18087387084961 … 20.524507522583008 20.470008850097656; 12.18087387084961 0.0 … 22.167490005493164 22.168933868408203; … ; 20.524507522583008 22.167490005493164 … 0.0 4.060173988342285; 20.470008850097656 22.168933868408203 … 4.060173988342285 0.0])"
      ]
     },
     "metadata": {},
     "output_type": "display_data"
    }
   ],
   "source": [
    "pdb = readpdb_backbone(\"../testpdb/AF-Q8VCK6-F1-model_v4.pdb\")\n",
    "writepdb(pdb, \"../testpdb/backbone.pdb\")\n",
    "fsize = 8\n",
    "\n",
    "xyzcoords = pdb2xyz(pdb)\n",
    "xyzcoords = matrix2fragments(xyzcoords, fsize)\n",
    "\n",
    "pdbmatrix = pdb2pdbmatrix(pdb)\n",
    "pdbfragments = matrix2fragments(pdbmatrix, fsize)\n",
    "\n",
    "fxity, aver_rmsd, nclusts, norm_nclusts, nfrags, matrix = fxity_kabsh(xyzcoords)"
   ]
  },
  {
   "cell_type": "code",
   "execution_count": 36,
   "metadata": {},
   "outputs": [],
   "source": [
    "# dump PDB fragments\n",
    "pdb = readpdb_backbone(\"../testpdb/small.pdb\")\n",
    "pdbfragments = matrix2fragments(pdbmatrix, 20)\n",
    "for (i, frag) in enumerate(pdbfragments)\n",
    "    writepdb(pdbmatrix2pdb(frag), \"../frags/frag$i.pdb\")\n",
    "end"
   ]
  },
  {
   "cell_type": "code",
   "execution_count": 37,
   "metadata": {},
   "outputs": [
    {
     "data": {
      "text/plain": [
       "0.36361846f0"
      ]
     },
     "metadata": {},
     "output_type": "display_data"
    }
   ],
   "source": [
    "pfrag1 = xyzcoords[10]\n",
    "pfrag2 = xyzcoords[11]\n",
    "\n",
    "kabsch_umeyama(pfrag1, pfrag2)"
   ]
  },
  {
   "cell_type": "code",
   "execution_count": 123,
   "metadata": {},
   "outputs": [],
   "source": [
    "pdb = readpdb_calpha(\"../testpdb/small.pdb\")\n",
    "xyz = pdb2xyz(pdb)\n",
    "print()"
   ]
  },
  {
   "cell_type": "code",
   "execution_count": 240,
   "metadata": {},
   "outputs": [
    {
     "name": "stderr",
     "output_type": "stream",
     "text": [
      "\u001b[32m\u001b[1m    Updating\u001b[22m\u001b[39m registry at `~/.julia/registries/General.toml`\n",
      "\u001b[32m\u001b[1m   Resolving\u001b[22m\u001b[39m package versions...\n",
      "\u001b[32m\u001b[1m    Updating\u001b[22m\u001b[39m `/spin1/home/linux/saakyanh2/.julia/environments/v1.11/Project.toml`\n",
      "  \u001b[90m[b8a86587] \u001b[39m\u001b[92m+ NearestNeighbors v0.4.21\u001b[39m\n",
      "\u001b[32m\u001b[1m  No Changes\u001b[22m\u001b[39m to `/spin1/home/linux/saakyanh2/.julia/environments/v1.11/Manifest.toml`\n"
     ]
    }
   ],
   "source": [
    "import Pkg; Pkg.add(\"NearestNeighbors\")"
   ]
  },
  {
   "cell_type": "code",
   "execution_count": 241,
   "metadata": {},
   "outputs": [],
   "source": [
    "using NearestNeighbors"
   ]
  },
  {
   "cell_type": "code",
   "execution_count": 256,
   "metadata": {},
   "outputs": [
    {
     "data": {
      "text/plain": [
       "BruteTree{StaticArraysCore.SVector{3, Float32}, Euclidean}\n",
       "  Number of points: 50\n",
       "  Dimensions: 3\n",
       "  Metric: Euclidean(0.0)\n",
       "  Reordered: false"
      ]
     },
     "metadata": {},
     "output_type": "display_data"
    }
   ],
   "source": [
    "data = xyz'\n",
    "\n",
    "# Create trees\n",
    "kdtree = KDTree(data; leafsize = 25)\n",
    "balltree = BallTree(data, Minkowski(3.5); reorder = false)\n",
    "brutetree = BruteTree(data)\n"
   ]
  },
  {
   "cell_type": "code",
   "execution_count": 257,
   "metadata": {},
   "outputs": [
    {
     "data": {
      "text/plain": [
       "([50, 48, 47, 49, 25], Float32[10.844793, 10.958652, 11.385086, 12.879178, 13.850678])"
      ]
     },
     "metadata": {},
     "output_type": "display_data"
    }
   ],
   "source": [
    "k = 5\n",
    "point = rand(3)\n",
    "\n",
    "kdtree = KDTree(data)\n",
    "idxs, dists = knn(kdtree, point, k, true)\n",
    "\n"
   ]
  }
 ],
 "metadata": {
  "kernelspec": {
   "display_name": "Julia 1.11.3",
   "language": "julia",
   "name": "julia-1.11"
  },
  "language_info": {
   "file_extension": ".jl",
   "mimetype": "application/julia",
   "name": "julia",
   "version": "1.11.3"
  }
 },
 "nbformat": 4,
 "nbformat_minor": 2
}
