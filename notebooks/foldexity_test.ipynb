{
 "cells": [
  {
   "cell_type": "code",
   "execution_count": 2,
   "metadata": {},
   "outputs": [],
   "source": [
    "using BenchmarkTools\n",
    "using Dates"
   ]
  },
  {
   "cell_type": "code",
   "execution_count": 1,
   "metadata": {},
   "outputs": [
    {
     "ename": "SystemError",
     "evalue": "SystemError: opening file \"/home/saakyanh2/WD/fx/foldexity/notebooks/src/foldexity.jl\": No such file or directory",
     "output_type": "error",
     "traceback": [
      "SystemError: opening file \"/home/saakyanh2/WD/fx/foldexity/notebooks/src/foldexity.jl\": No such file or directory\n",
      "\n",
      "Stacktrace:\n",
      " [1] include(fname::String)\n",
      "   @ Main ./sysimg.jl:38\n",
      " [2] top-level scope\n",
      "   @ ~/WD/fx/foldexity/notebooks/jl_notebook_cell_df34fa98e69747e1a8f8a730347b8e2f_W1sdnNjb2RlLXJlbW90ZQ==.jl:1"
     ]
    }
   ],
   "source": [
    "include(\"src/foldexity.jl\")\n",
    "include(\"src/entropy.jl\")"
   ]
  },
  {
   "cell_type": "code",
   "execution_count": null,
   "metadata": {},
   "outputs": [],
   "source": [
    "fxity, aver_rmsd, nclusts, norm_nclusts, frags, matrix = fxpdb(\"testpdb/AF-Q8VCK6-F1-model_v4.pdb\", 3, 0.5) "
   ]
  },
  {
   "cell_type": "code",
   "execution_count": null,
   "metadata": {},
   "outputs": [],
   "source": [
    "fxdir(\"testpdb\", \"fxdata.tsv\", 4, 1.0)\n",
    "rm(\"fxdata.tsv\")"
   ]
  },
  {
   "cell_type": "code",
   "execution_count": null,
   "metadata": {},
   "outputs": [],
   "source": [
    "pdb = readpdb(\"testpdb/AF-Q8VCK6-F1-model_v4.pdb\")\n",
    "writepdb(pdb, \"testpdb/backbone.pdb\")\n",
    "fsize = 8\n",
    "\n",
    "xyzcoords = pdb2matrix(pdb)\n",
    "coordmatrix = matrix2fragments(xyzcoords, fsize)\n",
    "\n",
    "pdbmatrix = pdb2pdbmatrix(pdb)\n",
    "pdbfragments = matrix2fragments(pdbmatrix, fsize)\n",
    "\n",
    "fxity, aver_rmsd, nclusts, norm_nclusts, nfrags, matrix = fxity_kabsh(coordmatrix)"
   ]
  },
  {
   "cell_type": "code",
   "execution_count": 23,
   "metadata": {},
   "outputs": [],
   "source": [
    "# dump PDB fragments\n",
    "pdb = readpdb(\"testpdb/small.pdb\")\n",
    "pdbfragments = matrix2fragments(pdbmatrix, 20)\n",
    "for (i, frag) in enumerate(pdbfragments)\n",
    "    writepdb(pdbmatrix2pdb(frag), \"frags/frag$i.pdb\")\n",
    "end"
   ]
  },
  {
   "cell_type": "code",
   "execution_count": null,
   "metadata": {},
   "outputs": [],
   "source": [
    "pfrag1 = coordmatrix[10]\n",
    "pfrag2 = coordmatrix[11]\n",
    "\n",
    "align_rmsd(pfrag1, pfrag2)"
   ]
  }
 ],
 "metadata": {
  "kernelspec": {
   "display_name": "Julia 1.11.3",
   "language": "julia",
   "name": "julia-1.11"
  },
  "language_info": {
   "file_extension": ".jl",
   "mimetype": "application/julia",
   "name": "julia",
   "version": "1.11.3"
  }
 },
 "nbformat": 4,
 "nbformat_minor": 2
}
