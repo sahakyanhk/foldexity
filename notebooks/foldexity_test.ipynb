{
 "cells": [
  {
   "cell_type": "code",
   "execution_count": 1,
   "metadata": {},
   "outputs": [],
   "source": [
    "using BenchmarkTools\n",
    "using Dates\n",
    "using ProgressBars\n",
    "using Distances"
   ]
  },
  {
   "cell_type": "code",
   "execution_count": 17,
   "metadata": {},
   "outputs": [],
   "source": [
    "include(\"../src/foldexity.jl\")\n",
    "include(\"../src/entropy.jl\")"
   ]
  },
  {
   "cell_type": "code",
   "execution_count": 5,
   "metadata": {},
   "outputs": [
    {
     "name": "stdout",
     "output_type": "stream",
     "text": [
      "Starting foldexity...\n"
     ]
    },
    {
     "data": {
      "text/plain": [
       "(4.505749377134266, 1.3746020152515541, 86, 0.2621951219512195, 328, [0.0 0.3617100119590759 … 2.1261956691741943 2.1296846866607666; 0.3617100119590759 0.0 … 2.1606688499450684 2.2002992630004883; … ; 2.1261956691741943 2.1606688499450684 … 0.0 1.0081433057785034; 2.1296846866607666 2.2002992630004883 … 1.0081433057785034 0.0])"
      ]
     },
     "metadata": {},
     "output_type": "display_data"
    }
   ],
   "source": [
    "fxpdb(\"../testpdb/AF-Q8VCK6-F1-model_v4.pdb\", 3, 0.5) \n"
   ]
  },
  {
   "cell_type": "code",
   "execution_count": 6,
   "metadata": {},
   "outputs": [
    {
     "name": "stdout",
     "output_type": "stream",
     "text": [
      "5 files are collected \n",
      "Starting foldexity...\n"
     ]
    },
    {
     "name": "stderr",
     "output_type": "stream",
     "text": [
      "20.0%"
     ]
    },
    {
     "name": "stdout",
     "output_type": "stream",
     "text": [
      "Warning: ../testpdb/3EFM.pdb probably has missing residues, skipping\n"
     ]
    },
    {
     "name": "stderr",
     "output_type": "stream",
     "text": [
      "┣████████▋                                  ┫ 1/5 [00:03<Inf:Inf, InfGs/it]\n",
      "60.0%┣████████████████████████████▉                   ┫ 3/5 [00:04<00:04, 2s/it]\n",
      "80.0%┣██████████████████████████████████████▍         ┫ 4/5 [00:04<00:01, 1s/it]\n",
      "100.0%┣███████████████████████████████████████████████┫ 5/5 [00:04<00:00, 1it/s]\n"
     ]
    }
   ],
   "source": [
    "fxdir(\"../testpdb\", \"fxdata.tsv\", 4, 1.0)\n",
    "rm(\"fxdata.tsv\")"
   ]
  },
  {
   "cell_type": "code",
   "execution_count": 35,
   "metadata": {},
   "outputs": [
    {
     "data": {
      "text/plain": [
       "(7.309983070517202, 8.600171516053804, 220, 0.6811145510835913, 323, [0.0 12.18087387084961 … 20.524507522583008 20.470008850097656; 12.18087387084961 0.0 … 22.167490005493164 22.168933868408203; … ; 20.524507522583008 22.167490005493164 … 0.0 4.060173988342285; 20.470008850097656 22.168933868408203 … 4.060173988342285 0.0])"
      ]
     },
     "metadata": {},
     "output_type": "display_data"
    }
   ],
   "source": [
    "pdb = readpdb_backbone(\"../testpdb/AF-Q8VCK6-F1-model_v4.pdb\")\n",
    "writepdb(pdb, \"../testpdb/backbone.pdb\")\n",
    "fsize = 8\n",
    "\n",
    "xyzcoords = pdb2xyz(pdb)\n",
    "xyzcoords = coords2fragments(xyzcoords, fsize)\n",
    "\n",
    "pdbmatrix = pdb2pdbmatrix(pdb)\n",
    "pdbfragments = coords2fragments(pdbmatrix, fsize)\n",
    "\n",
    "fxity, aver_rmsd, nclusts, norm_nclusts, nfrags, matrix = fxity_kabsh(xyzcoords)"
   ]
  },
  {
   "cell_type": "code",
   "execution_count": 36,
   "metadata": {},
   "outputs": [],
   "source": [
    "# dump PDB fragments\n",
    "pdb = readpdb_backbone(\"../testpdb/small.pdb\")\n",
    "pdbfragments = coords2fragments(pdbmatrix, 20)\n",
    "for (i, frag) in enumerate(pdbfragments)\n",
    "    writepdb(pdbmatrix2pdb(frag), \"../frags/frag$i.pdb\")\n",
    "end"
   ]
  },
  {
   "cell_type": "code",
   "execution_count": 37,
   "metadata": {},
   "outputs": [
    {
     "data": {
      "text/plain": [
       "0.36361846f0"
      ]
     },
     "metadata": {},
     "output_type": "display_data"
    }
   ],
   "source": [
    "pfrag1 = xyzcoords[10]\n",
    "pfrag2 = xyzcoords[11]\n",
    "\n",
    "kabsch_umeyama(pfrag1, pfrag2)"
   ]
  }
 ],
 "metadata": {
  "kernelspec": {
   "display_name": "Julia 1.11.3",
   "language": "julia",
   "name": "julia-1.11"
  },
  "language_info": {
   "file_extension": ".jl",
   "mimetype": "application/julia",
   "name": "julia",
   "version": "1.11.3"
  }
 },
 "nbformat": 4,
 "nbformat_minor": 2
}
