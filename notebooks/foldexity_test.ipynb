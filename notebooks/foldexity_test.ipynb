{
 "cells": [
  {
   "cell_type": "code",
   "execution_count": 1,
   "metadata": {},
   "outputs": [],
   "source": [
    "using BenchmarkTools\n",
    "using Dates\n",
    "using ProgressBars\n",
    "using Distances\n",
    "\n",
    "using Plots\n",
    "using Plots.PlotMeasures\n",
    "using StatsPlots, KernelDensity\n"
   ]
  },
  {
   "cell_type": "code",
   "execution_count": 3,
   "metadata": {},
   "outputs": [],
   "source": [
    "include(\"../src/foldexity.jl\")\n",
    "include(\"../src/fxio.jl\")\n",
    "include(\"../src/entropy.jl\")"
   ]
  },
  {
   "cell_type": "code",
   "execution_count": null,
   "metadata": {},
   "outputs": [
    {
     "data": {
      "text/plain": [
       "213-element Vector{String}:\n",
       " \"PHE\"\n",
       " \"PHE\"\n",
       " \"PHE\"\n",
       " \"GLN\"\n",
       " \"GLN\"\n",
       " \"GLN\"\n",
       " \"THR\"\n",
       " \"THR\"\n",
       " \"THR\"\n",
       " \"TRP\"\n",
       " ⋮\n",
       " \"LEU\"\n",
       " \"LEU\"\n",
       " \"LEU\"\n",
       " \"MET\"\n",
       " \"MET\"\n",
       " \"MET\"\n",
       " \"VAL\"\n",
       " \"VAL\"\n",
       " \"VAL\""
      ]
     },
     "metadata": {},
     "output_type": "display_data"
    }
   ],
   "source": [
    "pdb = readpdb_backbone(\"../testpdb/d1914a1.pdb\")\n",
    "\n",
    "\n",
    "pdb2fasta(pdb.resname)"
   ]
  },
  {
   "cell_type": "code",
   "execution_count": 4,
   "metadata": {},
   "outputs": [
    {
     "name": "stdout",
     "output_type": "stream",
     "text": [
      "Starting foldexity...\n"
     ]
    },
    {
     "data": {
      "text/plain": [
       "3.929238240339544"
      ]
     },
     "metadata": {},
     "output_type": "display_data"
    }
   ],
   "source": [
    "fxity, average_rmsd, num_clusts, norm_num_clusts, num_frags, matrix = fxpdb(\"../testpdb/AF-Q8VCK6-F1-model_v4.pdb\", 4, \"seq\", 1.0) \n",
    "fxity"
   ]
  },
  {
   "cell_type": "code",
   "execution_count": null,
   "metadata": {},
   "outputs": [],
   "source": [
    "fxdir(\"../testpdb\", \"fxdata.tsv\", 6, \"knn\", 1.0)\n",
    "df = CSV.read(\"fxdata.tsv\", DataFrame, delim = \"\\t\")\n",
    "rm(\"fxdata.tsv\")\n",
    "df"
   ]
  },
  {
   "cell_type": "code",
   "execution_count": null,
   "metadata": {},
   "outputs": [],
   "source": [
    "fsize = 4\n",
    "cutoff = 2\n",
    "\n",
    "pdb = readpdb_backbone(\"../testpdb/d1914a1.pdb\")\n",
    "writepdb(pdb, \"../testpdb/backbone.pdb\")\n",
    "\n",
    "xyzcoords = pdb2xyz(pdb)\n",
    "xyzcoords = coords2kmers(xyzcoords, fsize)\n",
    "\n",
    "pdbmatrix = pdb2pdbmatrix(pdb)\n",
    "pdbfragments = coords2kmers(pdbmatrix, fsize)\n",
    "\n",
    "fxity, average_rmsd, num_clusts, norm_num_clusts, num_frags, matrix = fxity_kabsh(xyzcoords)\n",
    "\n",
    "pfrag1 = xyzcoords[10]\n",
    "pfrag2 = xyzcoords[11]\n",
    "\n",
    "kabsch_umeyama(pfrag1, pfrag2)"
   ]
  },
  {
   "cell_type": "code",
   "execution_count": null,
   "metadata": {},
   "outputs": [],
   "source": [
    "nfrags = length(xyzcoords)  # Change this to the desired size\n",
    "matrix = zeros(Float64, nfrags, nfrags)\n",
    "\n",
    "for i = 1:nfrags # Fill the upper triangle\n",
    "    for j = i+1:nfrags  # Ensure j >= i for the upper triangle\n",
    "        matrix[i, j] = kabsch_umeyama(xyzcoords[i], xyzcoords[j])\n",
    "    end\n",
    "end\n",
    "\n",
    "matrix += matrix' #make a symmetric matrix\n",
    "aver_rmsd = sum(matrix) / (nfrags * nfrags)\n",
    "\n",
    "cl = hclust(matrix, linkage=:complete)\n",
    "results = cutree(cl, h=cutoff) \n",
    "nclusts = length(unique(results))\n",
    "norm_nclusts = nclusts / nfrags\n",
    "\n",
    "       \n"
   ]
  },
  {
   "cell_type": "code",
   "execution_count": null,
   "metadata": {},
   "outputs": [],
   "source": [
    "# Perform hierarchical clustering\n",
    "cl = hclust(matrix, linkage=:complete)\n",
    "\n",
    "# Function to convert hclust to Newick format with matrix indices\n",
    "function hclust_to_newick(cl::Hclust, labels::Vector{String})\n",
    "    function build_tree(node)\n",
    "        if node < 0  # leaf node\n",
    "            index = -node\n",
    "            return labels[index]  # Use label from the matrix\n",
    "        else  # internal node\n",
    "            left, right = cl.merge[node, :]\n",
    "            left_tree = build_tree(left)\n",
    "            right_tree = build_tree(right)\n",
    "            return \"($(left_tree):$(cl.height[node]),$(right_tree):$(cl.height[node]))\"\n",
    "        end\n",
    "    end\n",
    "    return build_tree(size(cl.merge, 1)) * \";\"\n",
    "end\n",
    "\n",
    "# Define labels for each matrix point\n",
    "labels = [\"kmer_$i\" for i in 1:size(matrix, 1)]\n",
    "\n",
    "# Convert to Newick format with labels\n",
    "newick_tree = hclust_to_newick(cl, labels)\n",
    "println(newick_tree)"
   ]
  },
  {
   "cell_type": "code",
   "execution_count": null,
   "metadata": {},
   "outputs": [],
   "source": [
    "function alphabet_heatmap(m, cmap)\n",
    "    scale = 12\n",
    "    i,j = size(m)\n",
    "    h = heatmap(m, \n",
    "        color=cmap,  \n",
    "        xlabel=\"Kmer1\", ylabel=\"Kmer2\", \n",
    "        grid=true, \n",
    "        #xticks=(1:10, 1:10:i), yticks=(1:j, 1:10:j), \n",
    "        \n",
    "        size=([i,j] * scale),  \n",
    "        margins = 5mm,\n",
    "        dpi=500, yrotation = 90, tickfontsize=8)\n",
    "\n",
    "    h = vline!(0.5:(j+0.5), c=:grey)\n",
    "    h = hline!(0.5:(i+0.5), c=:grey, legend=false)\n",
    "    #savefig(\"heatmap_3di_vs_AA.png\")\n",
    "    return h\n",
    "end\n",
    "\n",
    "morder = reverse(cl.order)\n",
    "alphabet_heatmap(matrix[morder,morder], :bluesreds)"
   ]
  },
  {
   "cell_type": "code",
   "execution_count": null,
   "metadata": {},
   "outputs": [],
   "source": [
    "# dump PDB fragments\n",
    "pdbfile = \"../testpdb/d1914a1.pdb\"\n",
    "outdir =  split(basename(pdbfile), \".\")[1]\n",
    "if isdir(outdir)\n",
    "    rm(outdir, force = true, recursive=true)\n",
    "end\n",
    "\n",
    "mkpath(outdir)\n",
    "\n",
    "\n",
    "\n",
    "pdb = readpdb_backbone(pdbfile)\n",
    "pdbfragments = coords2kmers(pdbmatrix, 4)\n",
    "i = 1\n",
    "for (cl, frag) in zip(results, pdbfragments)\n",
    "    writepdb(pdbmatrix2pdb(frag), \"$outdir/cl$(cl)frag$i.pdb\")\n",
    "    i+=1\n",
    "end"
   ]
  },
  {
   "cell_type": "code",
   "execution_count": null,
   "metadata": {},
   "outputs": [],
   "source": []
  }
 ],
 "metadata": {
  "kernelspec": {
   "display_name": "Julia 1.11.3",
   "language": "julia",
   "name": "julia-1.11"
  },
  "language_info": {
   "file_extension": ".jl",
   "mimetype": "application/julia",
   "name": "julia",
   "version": "1.11.3"
  }
 },
 "nbformat": 4,
 "nbformat_minor": 2
}
