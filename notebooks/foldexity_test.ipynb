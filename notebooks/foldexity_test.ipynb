{
 "cells": [
  {
   "cell_type": "code",
   "execution_count": 1,
   "metadata": {},
   "outputs": [],
   "source": [
    "using BenchmarkTools\n",
    "using Dates"
   ]
  },
  {
   "cell_type": "code",
   "execution_count": 234,
   "metadata": {},
   "outputs": [
    {
     "name": "stderr",
     "output_type": "stream",
     "text": [
      "┌ Warning: Assignment to `fxity` in soft scope is ambiguous because a global variable by the same name exists: `fxity` will be treated as a new local. Disambiguate by using `local fxity` to suppress this warning or `global fxity` to assign to the existing global variable.\n",
      "└ @ nothing /home/saakyanh2/WD/fx/foldexity/src/foldexity.jl:129\n",
      "┌ Warning: Assignment to `aver_rmsd` in soft scope is ambiguous because a global variable by the same name exists: `aver_rmsd` will be treated as a new local. Disambiguate by using `local aver_rmsd` to suppress this warning or `global aver_rmsd` to assign to the existing global variable.\n",
      "└ @ nothing /home/saakyanh2/WD/fx/foldexity/src/foldexity.jl:129\n",
      "┌ Warning: Assignment to `nclusts` in soft scope is ambiguous because a global variable by the same name exists: `nclusts` will be treated as a new local. Disambiguate by using `local nclusts` to suppress this warning or `global nclusts` to assign to the existing global variable.\n",
      "└ @ nothing /home/saakyanh2/WD/fx/foldexity/src/foldexity.jl:129\n",
      "┌ Warning: Assignment to `norm_nclusts` in soft scope is ambiguous because a global variable by the same name exists: `norm_nclusts` will be treated as a new local. Disambiguate by using `local norm_nclusts` to suppress this warning or `global norm_nclusts` to assign to the existing global variable.\n",
      "└ @ nothing /home/saakyanh2/WD/fx/foldexity/src/foldexity.jl:129\n",
      "┌ Warning: Assignment to `nfrags` in soft scope is ambiguous because a global variable by the same name exists: `nfrags` will be treated as a new local. Disambiguate by using `local nfrags` to suppress this warning or `global nfrags` to assign to the existing global variable.\n",
      "└ @ nothing /home/saakyanh2/WD/fx/foldexity/src/foldexity.jl:129\n"
     ]
    }
   ],
   "source": [
    "include(\"../src/foldexity.jl\")\n",
    "include(\"../src/entropy.jl\")"
   ]
  },
  {
   "cell_type": "code",
   "execution_count": 235,
   "metadata": {},
   "outputs": [
    {
     "name": "stdout",
     "output_type": "stream",
     "text": [
      "Starting foldexity...\n"
     ]
    },
    {
     "data": {
      "text/plain": [
       "(4.505749377134266, 1.3746020152515541, 86, 0.2621951219512195, 328, [0.0 0.3617100119590759 … 2.1261956691741943 2.1296846866607666; 0.3617100119590759 0.0 … 2.1606688499450684 2.2002992630004883; … ; 2.1261956691741943 2.1606688499450684 … 0.0 1.0081433057785034; 2.1296846866607666 2.2002992630004883 … 1.0081433057785034 0.0])"
      ]
     },
     "metadata": {},
     "output_type": "display_data"
    }
   ],
   "source": [
    "fxpdb(\"../testpdb/AF-Q8VCK6-F1-model_v4.pdb\", 3, 0.5) \n"
   ]
  },
  {
   "cell_type": "code",
   "execution_count": 236,
   "metadata": {},
   "outputs": [
    {
     "name": "stdout",
     "output_type": "stream",
     "text": [
      "5 files are collected \n",
      "Starting foldexity...\n"
     ]
    },
    {
     "name": "stderr",
     "output_type": "stream",
     "text": [
      "20.0%"
     ]
    },
    {
     "name": "stdout",
     "output_type": "stream",
     "text": [
      "Warning: ../testpdb/3EFM.pdb probably has missing residues, skipping\n"
     ]
    },
    {
     "name": "stderr",
     "output_type": "stream",
     "text": [
      "┣████████▋                                  ┫ 1/5 [00:00<Inf:Inf, InfGs/it]\n",
      "60.0%┣████████████████████████████▉                   ┫ 3/5 [00:01<00:01, 2it/s]\n",
      "80.0%┣██████████████████████████████████████▍         ┫ 4/5 [00:02<00:01, 2it/s]\n",
      "100.0%┣███████████████████████████████████████████████┫ 5/5 [00:02<00:00, 3it/s]\n"
     ]
    }
   ],
   "source": [
    "fxdir(\"../testpdb\", \"fxdata.tsv\", 4, 1.0)\n",
    "rm(\"fxdata.tsv\")"
   ]
  },
  {
   "cell_type": "code",
   "execution_count": 35,
   "metadata": {},
   "outputs": [
    {
     "data": {
      "text/plain": [
       "(7.309983070517202, 8.600171516053804, 220, 0.6811145510835913, 323, [0.0 12.18087387084961 … 20.524507522583008 20.470008850097656; 12.18087387084961 0.0 … 22.167490005493164 22.168933868408203; … ; 20.524507522583008 22.167490005493164 … 0.0 4.060173988342285; 20.470008850097656 22.168933868408203 … 4.060173988342285 0.0])"
      ]
     },
     "metadata": {},
     "output_type": "display_data"
    }
   ],
   "source": [
    "pdb = readpdb_backbone(\"../testpdb/AF-Q8VCK6-F1-model_v4.pdb\")\n",
    "writepdb(pdb, \"../testpdb/backbone.pdb\")\n",
    "fsize = 8\n",
    "\n",
    "xyzcoords = pdb2xyz(pdb)\n",
    "xyzcoords = matrix2fragments(xyzcoords, fsize)\n",
    "\n",
    "pdbmatrix = pdb2pdbmatrix(pdb)\n",
    "pdbfragments = matrix2fragments(pdbmatrix, fsize)\n",
    "\n",
    "fxity, aver_rmsd, nclusts, norm_nclusts, nfrags, matrix = fxity_kabsh(xyzcoords)"
   ]
  },
  {
   "cell_type": "code",
   "execution_count": 36,
   "metadata": {},
   "outputs": [],
   "source": [
    "# dump PDB fragments\n",
    "pdb = readpdb_backbone(\"../testpdb/small.pdb\")\n",
    "pdbfragments = matrix2fragments(pdbmatrix, 20)\n",
    "for (i, frag) in enumerate(pdbfragments)\n",
    "    writepdb(pdbmatrix2pdb(frag), \"../frags/frag$i.pdb\")\n",
    "end"
   ]
  },
  {
   "cell_type": "code",
   "execution_count": 37,
   "metadata": {},
   "outputs": [
    {
     "data": {
      "text/plain": [
       "0.36361846f0"
      ]
     },
     "metadata": {},
     "output_type": "display_data"
    }
   ],
   "source": [
    "pfrag1 = xyzcoords[10]\n",
    "pfrag2 = xyzcoords[11]\n",
    "\n",
    "align_rmsd(pfrag1, pfrag2)"
   ]
  },
  {
   "cell_type": "code",
   "execution_count": 123,
   "metadata": {},
   "outputs": [],
   "source": [
    "pdb = readpdb_calpha(\"../testpdb/small.pdb\")\n",
    "xyz = pdb2xyz(pdb)\n",
    "print()"
   ]
  },
  {
   "cell_type": "code",
   "execution_count": 238,
   "metadata": {},
   "outputs": [
    {
     "data": {
      "text/plain": [
       "50×50 Matrix{Float32}:\n",
       "  0.0       3.82439   6.3981    8.91435  …  41.4405   40.6836   39.3132\n",
       "  3.82439   0.0       3.84386   6.48679     39.8097   39.2922   38.1429\n",
       "  6.3981    3.84386   0.0       3.82761     36.9008   36.5994   35.3151\n",
       "  8.91435   6.48679   3.82761   0.0         38.0293   38.0842   36.7083\n",
       " 12.3458    9.26018   6.57638   3.86513     36.8002   37.1749   36.0176\n",
       " 13.8856   11.3682    7.8367    5.48041  …  34.2601   34.7466   33.3344\n",
       " 11.5989    9.39064   5.55839   5.28903     32.8282   32.9175   31.4734\n",
       " 11.9147    8.78254   5.66421   6.03479     32.9065   32.9958   31.9839\n",
       " 15.7036   12.6083    9.36182   8.82686     30.6212   31.0973   30.1609\n",
       " 16.0505   13.6101   10.0355   10.1451      28.0383   28.3594   27.1198\n",
       "  ⋮                                      ⋱                      \n",
       " 51.7188   50.1368   47.2646   48.3833      10.3693   11.3981   13.2796\n",
       " 49.624    48.1798   45.1924   46.2222       8.74666   9.9724   10.8001\n",
       " 47.2106   45.5549   42.5274   43.4379       6.03469   8.50133   9.74669\n",
       " 46.153    44.5416   41.7293   42.9469       5.02669   6.08063   8.60571\n",
       " 45.2465   43.9234   41.1091   42.4324   …   5.50406   5.03475   6.20146\n",
       " 43.252    41.8455   38.8399   39.9017       3.84978   5.3874    5.04092\n",
       " 41.4405   39.8097   36.9008   38.0293       0.0       3.84096   5.47366\n",
       " 40.6836   39.2922   36.5994   38.0842       3.84096   0.0       3.84183\n",
       " 39.3132   38.1429   35.3151   36.7083       5.47366   3.84183   0.0"
      ]
     },
     "metadata": {},
     "output_type": "display_data"
    }
   ],
   "source": [
    "m = distancematrix(xyz, 0)"
   ]
  }
 ],
 "metadata": {
  "kernelspec": {
   "display_name": "Julia 1.11.3",
   "language": "julia",
   "name": "julia-1.11"
  },
  "language_info": {
   "file_extension": ".jl",
   "mimetype": "application/julia",
   "name": "julia",
   "version": "1.11.3"
  }
 },
 "nbformat": 4,
 "nbformat_minor": 2
}
