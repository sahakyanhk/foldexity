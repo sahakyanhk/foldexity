{
 "cells": [
  {
   "cell_type": "code",
   "execution_count": 1,
   "metadata": {},
   "outputs": [],
   "source": [
    "using LinearAlgebra\n",
    "using Statistics\n",
    "\n",
    "\n"
   ]
  },
  {
   "cell_type": "code",
   "execution_count": 2,
   "metadata": {},
   "outputs": [
    {
     "data": {
      "text/plain": [
       "kabsch (generic function with 1 method)"
      ]
     },
     "metadata": {},
     "output_type": "display_data"
    }
   ],
   "source": [
    "function pdb2matrix(pdb_file::String)\n",
    "    #pdb_txt = readdlm(pdb_file)\n",
    "    x,y,z = [], [], []\n",
    "    for line in eachline(open(pdb_file))\n",
    "        if startswith(line, \"ATOM\") && strip(line[13:16]) == \"CA\"\n",
    "            push!(x, parse(Float64,strip(line[31:38])))\n",
    "            push!(y, parse(Float64,strip(line[39:46])))\n",
    "            push!(z, parse(Float64,strip(line[47:54])))\n",
    "        end\n",
    "    end\n",
    "    m = hcat(x,y,z)\n",
    "    return m\n",
    "end\n",
    "\n",
    "function xyz2matrix(input_xyz)\n",
    "    # Imports .xyz file format as data frame, and converts it to an N x 3 Matrix\n",
    "    raw_xyz=readdlm(input_xyz)\n",
    "    natoms=size(raw_xyz)[1]\n",
    "    just_coords=Array{Float64}(raw_xyz[2:natoms,2:4])\n",
    "    return just_coords\n",
    "end\n",
    "\n",
    "function translate_to_centroid(coord_matrix)\n",
    "    # Normalises the molecular coordinates by centering them.\n",
    "    center = [mean(coord_matrix[:,1]);mean(coord_matrix[:,2]);mean(coord_matrix[:,3])]\n",
    "    centroid = transpose(center)\n",
    "    translated_geom = broadcast(-,coord_matrix,centroid)\n",
    "    return translated_geom\n",
    "end\n",
    "\n",
    "function cross_covariance_matrix(Pmatrix,Qmatrix)\n",
    "    # Cross covariance matrix gives measure of variability between two matrices\n",
    "    CCmatrix = transpose(Pmatrix) * Qmatrix\n",
    "    return CCmatrix\n",
    "end\n",
    "\n",
    "function optimal_rotation_matrix(CCmatrix)\n",
    "    # Returns 3x3 matrix that can be applied to P to get Q\n",
    "    ORmatrix = sqrt(transpose(CCmatrix)*CCmatrix)*inv(CCmatrix)\n",
    "    return ORmatrix\n",
    "end\n",
    "\n",
    "function kabsch(m1,m2)\n",
    "\n",
    "    normalisedP = (translate_to_centroid(m1))\n",
    "    normalisedQ = (translate_to_centroid(m2))\n",
    "\n",
    "    xcov = cross_covariance_matrix(normalisedP,normalisedQ)\n",
    "    orot = optimal_rotation_matrix(xcov)\n",
    "\n",
    "    num_atoms = size(normalisedP)[1]\n",
    "    rotated = zeros(Float64,num_atoms,3)\n",
    "\n",
    "    for i=1:num_atoms\n",
    "        rotated[i,:] = orot*normalisedP[i,:]\n",
    "    end\n",
    "\n",
    "    RMSD_value = norm(rotated-normalisedQ)\n",
    "    return RMSD_value\n",
    "end"
   ]
  },
  {
   "cell_type": "code",
   "execution_count": null,
   "metadata": {},
   "outputs": [
    {
     "data": {
      "text/plain": [
       "slicematrix (generic function with 2 methods)"
      ]
     },
     "metadata": {},
     "output_type": "display_data"
    }
   ],
   "source": [
    "function slicematrix(matrix, wsize=5)\n",
    "    msize = size(matrix)[1]-wsize\n",
    "    megam = [matrix[i:i+wsize,:] for i in 1:msize]\n",
    "    return megam\n",
    "end"
   ]
  },
  {
   "cell_type": "code",
   "execution_count": 6,
   "metadata": {},
   "outputs": [
    {
     "ename": "UndefVarError",
     "evalue": "UndefVarError: `m` not defined in `Main`\nSuggestion: check for spelling errors or missing imports.",
     "output_type": "error",
     "traceback": [
      "UndefVarError: `m` not defined in `Main`\n",
      "Suggestion: check for spelling errors or missing imports.\n",
      "\n",
      "Stacktrace:\n",
      " [1] slicematrix(matrix::Matrix{Float64}, wsize::Int64)\n",
      "   @ Main ~/LWD/foldexity/jl_notebook_cell_df34fa98e69747e1a8f8a730347b8e2f_W3sdnNjb2RlLXJlbW90ZQ==.jl:2\n",
      " [2] top-level scope\n",
      "   @ ~/LWD/foldexity/jl_notebook_cell_df34fa98e69747e1a8f8a730347b8e2f_W4sdnNjb2RlLXJlbW90ZQ==.jl:1"
     ]
    }
   ],
   "source": [
    "megax = slicematrix(pdb2matrix(\"small.pdb\"))\n"
   ]
  },
  {
   "cell_type": "code",
   "execution_count": 85,
   "metadata": {},
   "outputs": [
    {
     "data": {
      "text/plain": [
       "kabsh_matrix (generic function with 1 method)"
      ]
     },
     "metadata": {},
     "output_type": "display_data"
    }
   ],
   "source": [
    "function kabsh_matrix(megax)    \n",
    "    n = size(megax)[1]  # Change this to the desired size\n",
    "    matrix = zeros(Float64, n, n)\n",
    "\n",
    "    for i = 1:n # Fill the upper triangle\n",
    "        for j = i:n  # Ensure j >= i for the upper triangle\n",
    "            matrix[i, j] = kabsch(megax[i], megax[j])\n",
    "        end\n",
    "    end\n",
    "    return matrix\n",
    "end"
   ]
  },
  {
   "cell_type": "code",
   "execution_count": 86,
   "metadata": {},
   "outputs": [
    {
     "data": {
      "text/plain": [
       "45×45 Matrix{Float64}:\n",
       " 2.92342e-14  6.33127      8.84129      …  6.97407      6.88663\n",
       " 0.0          9.33463e-15  6.53931         5.96541      5.9111\n",
       " 0.0          0.0          5.87035e-15     5.32664      5.36248\n",
       " 0.0          0.0          0.0             0.422552     0.373994\n",
       " 0.0          0.0          0.0             0.495378     0.434438\n",
       " 0.0          0.0          0.0          …  0.600804     0.591554\n",
       " 0.0          0.0          0.0             0.347801     0.399047\n",
       " 0.0          0.0          0.0             0.211718     0.234287\n",
       " 0.0          0.0          0.0             0.260834     0.231935\n",
       " 0.0          0.0          0.0             0.25861      0.246963\n",
       " ⋮                                      ⋱               \n",
       " 0.0          0.0          0.0             5.34432      5.32596\n",
       " 0.0          0.0          0.0             6.91752      6.85814\n",
       " 0.0          0.0          0.0             7.65428      7.56699\n",
       " 0.0          0.0          0.0             6.09165      6.02374\n",
       " 0.0          0.0          0.0          …  5.06147      5.06803\n",
       " 0.0          0.0          0.0             1.11535      1.03569\n",
       " 0.0          0.0          0.0             0.431194     0.382909\n",
       " 0.0          0.0          0.0             3.06928e-15  0.147458\n",
       " 0.0          0.0          0.0             0.0          3.39209e-15"
      ]
     },
     "metadata": {},
     "output_type": "display_data"
    }
   ],
   "source": [
    "kabsh_matrix(megax)"
   ]
  },
  {
   "cell_type": "code",
   "execution_count": null,
   "metadata": {},
   "outputs": [],
   "source": []
  },
  {
   "cell_type": "code",
   "execution_count": null,
   "metadata": {},
   "outputs": [],
   "source": []
  },
  {
   "cell_type": "code",
   "execution_count": null,
   "metadata": {},
   "outputs": [],
   "source": []
  },
  {
   "cell_type": "code",
   "execution_count": null,
   "metadata": {},
   "outputs": [],
   "source": []
  },
  {
   "cell_type": "code",
   "execution_count": null,
   "metadata": {},
   "outputs": [],
   "source": []
  },
  {
   "cell_type": "code",
   "execution_count": null,
   "metadata": {},
   "outputs": [],
   "source": []
  },
  {
   "cell_type": "code",
   "execution_count": null,
   "metadata": {},
   "outputs": [],
   "source": []
  },
  {
   "cell_type": "code",
   "execution_count": null,
   "metadata": {},
   "outputs": [],
   "source": [
    "using PlotlyJS\n",
    "\n",
    "plot(1:100,2:200)"
   ]
  },
  {
   "cell_type": "code",
   "execution_count": null,
   "metadata": {},
   "outputs": [],
   "source": []
  }
 ],
 "metadata": {
  "kernelspec": {
   "display_name": "Julia 1.11.1",
   "language": "julia",
   "name": "julia-1.11"
  },
  "language_info": {
   "file_extension": ".jl",
   "mimetype": "application/julia",
   "name": "julia",
   "version": "1.11.1"
  }
 },
 "nbformat": 4,
 "nbformat_minor": 2
}
