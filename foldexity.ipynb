{
 "cells": [
  {
   "cell_type": "code",
   "execution_count": null,
   "metadata": {},
   "outputs": [],
   "source": [
    "import Pkg \n",
    "Pkg.add(\"Glob\")\n",
    "Pkg.add(\"PlotlyJS\")\n"
   ]
  },
  {
   "cell_type": "code",
   "execution_count": 1,
   "metadata": {},
   "outputs": [],
   "source": [
    "using LinearAlgebra\n",
    "using Statistics\n",
    "using Glob\n"
   ]
  },
  {
   "cell_type": "code",
   "execution_count": 9,
   "metadata": {},
   "outputs": [
    {
     "data": {
      "text/plain": [
       "kabsh_matrix (generic function with 1 method)"
      ]
     },
     "metadata": {},
     "output_type": "display_data"
    }
   ],
   "source": [
    "function pdb2matrix(pdb_file::String)\n",
    "    x,y,z = [], [], []\n",
    "    for line in eachline(open(pdb_file))\n",
    "        if startswith(line, \"ATOM\") && strip(line[13:16]) == \"CA\"\n",
    "            push!(x, parse(Float64,strip(line[31:38])))\n",
    "            push!(y, parse(Float64,strip(line[39:46])))\n",
    "            push!(z, parse(Float64,strip(line[47:54])))\n",
    "        end\n",
    "        if startswith(line, \"TER\")\n",
    "            break\n",
    "        end\n",
    "    end\n",
    "    m = hcat(x,y,z)\n",
    "    return m\n",
    "end\n",
    "\n",
    "function xyz2matrix(input_xyz)\n",
    "    # Imports .xyz file format as data frame, and converts it to an N x 3 Matrix\n",
    "    raw_xyz=readdlm(input_xyz)\n",
    "    natoms=size(raw_xyz)[1]\n",
    "    just_coords=Array{Float64}(raw_xyz[2:natoms,2:4])\n",
    "    return just_coords\n",
    "end\n",
    "\n",
    "function translate_to_centroid(coord_matrix)\n",
    "    # Normalises the molecular coordinates by centering them.\n",
    "    center = [mean(coord_matrix[:,1]);mean(coord_matrix[:,2]);mean(coord_matrix[:,3])]\n",
    "    centroid = transpose(center)\n",
    "    translated_geom = broadcast(-,coord_matrix,centroid)\n",
    "    return translated_geom\n",
    "end\n",
    "\n",
    "function cross_covariance_matrix(Pmatrix,Qmatrix)\n",
    "    # Cross covariance matrix gives measure of variability between two matrices\n",
    "    CCmatrix = transpose(Pmatrix) * Qmatrix\n",
    "    return CCmatrix\n",
    "end\n",
    "\n",
    "function optimal_rotation_matrix(CCmatrix)\n",
    "    # Returns 3x3 matrix that can be applied to P to get Q\n",
    "    ORmatrix = sqrt(transpose(CCmatrix)*CCmatrix)*inv(CCmatrix)\n",
    "    return ORmatrix\n",
    "end\n",
    "\n",
    "function kabsch(m1,m2)\n",
    "\n",
    "    normalisedP = (translate_to_centroid(m1))\n",
    "    normalisedQ = (translate_to_centroid(m2))\n",
    "\n",
    "    xcov = cross_covariance_matrix(normalisedP,normalisedQ)\n",
    "    orot = optimal_rotation_matrix(xcov)\n",
    "\n",
    "    num_atoms = size(normalisedP)[1]\n",
    "    rotated = zeros(Float64,num_atoms,3)\n",
    "\n",
    "    for i=1:num_atoms\n",
    "        rotated[i,:] = orot*normalisedP[i,:]\n",
    "    end\n",
    "\n",
    "    RMSD_value = norm(rotated-normalisedQ)\n",
    "    return RMSD_value\n",
    "end\n",
    "\n",
    "function matrix2fragments(matrix, wsize=5)\n",
    "    msize = size(matrix)[1]-wsize\n",
    "    megam = [matrix[i:i+wsize,:] for i in 1:msize]\n",
    "    return megam\n",
    "end\n",
    "\n",
    "function kabsh_matrix(megax)    \n",
    "    try        \n",
    "        n = size(megax)[1]  # Change this to the desired size\n",
    "        matrix = zeros(Float64, n, n)\n",
    "\n",
    "        for i = 1:n # Fill the upper triangle\n",
    "            for j = i+1:n  # Ensure j >= i for the upper triangle\n",
    "                matrix[i, j] = kabsch(megax[i], megax[j])\n",
    "            end\n",
    "        end\n",
    "        return sum(matrix)/(n*n)\n",
    "    catch \n",
    "        return 0\n",
    "    end\n",
    "end"
   ]
  },
  {
   "cell_type": "code",
   "execution_count": null,
   "metadata": {},
   "outputs": [
    {
     "data": {
      "text/plain": [
       "fxdir (generic function with 2 methods)"
      ]
     },
     "metadata": {},
     "output_type": "display_data"
    }
   ],
   "source": [
    "function fxdir(dirpath, printon = false)\n",
    "        i = 1\n",
    "        data = []\n",
    "        for (root, dirs, files) in walkdir(dirpath)\n",
    "                for file in files\n",
    "                        try     \n",
    "                                pdbpath = joinpath(root, file)\n",
    "                                megax = matrix2fragments(pdb2matrix(pdbpath), 4)\n",
    "                                nres = size(megax)[1]\n",
    "                                fxity = kabsh_matrix(megax)\n",
    "                                push!(data, [i,pdbpath,fxity,nres])\n",
    "                                if printon\n",
    "                                println(\"$i     $pdbpath        $fxity       $nres\")\n",
    "                                end\n",
    "                        catch \n",
    "                                push!(data, [i,pdbpath,0,0])\n",
    "                                if printon\n",
    "                                       println(\"$i     $pdbpath       NA\")\n",
    "                                end\n",
    "                        end\n",
    "                        i+=1\n",
    "                \n",
    "                end\n",
    "        end\n",
    "        return(data)\n",
    "end\n",
    "    "
   ]
  },
  {
   "cell_type": "code",
   "execution_count": 13,
   "metadata": {},
   "outputs": [
    {
     "name": "stdout",
     "output_type": "stream",
     "text": [
      "../scop40/bj/d1bj7a_.ent\n",
      "1     ../scop40/bj/d1bj7a_.ent        2.0269557443589377       146\n",
      "../scop40/bj/d1bjaa_.ent\n",
      "2     ../scop40/bj/d1bjaa_.ent        1.5209127681471362       91\n",
      "../scop40/bj/d1bjta_.ent\n",
      "3     ../scop40/bj/d1bjta_.ent        2.1947030866778663       675\n",
      "../scop40/bj/d1bjxa_.ent\n",
      "4     ../scop40/bj/d1bjxa_.ent        2.0232890978429756       106\n",
      "../scop40/bj/d2bj7a1.ent\n",
      "5     ../scop40/bj/d2bj7a1.ent        1.690852558531753       46\n",
      "../scop40/bj/d2bj7a2.ent\n",
      "6     ../scop40/bj/d2bj7a2.ent        2.0741155593433294       78\n",
      "../scop40/bj/d2bjqa1.ent\n",
      "7     ../scop40/bj/d2bjqa1.ent        1.9079555166801538       166\n",
      "../scop40/bj/d2bjqa2.ent\n",
      "8     ../scop40/bj/d2bjqa2.ent        1.9642497750721413       166\n",
      "../scop40/bj/d2bjra2.ent\n",
      "9     ../scop40/bj/d2bjra2.ent        1.962895382197752       178\n",
      "../scop40/bj/d2bjua1.ent\n",
      "10     ../scop40/bj/d2bjua1.ent        0       330\n"
     ]
    },
    {
     "data": {
      "text/plain": [
       "10-element Vector{Any}:\n",
       " Any[1, \"../scop40/bj/d1bj7a_.ent\", 2.0269557443589377, 146]\n",
       " Any[2, \"../scop40/bj/d1bjaa_.ent\", 1.5209127681471362, 91]\n",
       " Any[3, \"../scop40/bj/d1bjta_.ent\", 2.1947030866778663, 675]\n",
       " Any[4, \"../scop40/bj/d1bjxa_.ent\", 2.0232890978429756, 106]\n",
       " Any[5, \"../scop40/bj/d2bj7a1.ent\", 1.690852558531753, 46]\n",
       " Any[6, \"../scop40/bj/d2bj7a2.ent\", 2.0741155593433294, 78]\n",
       " Any[7, \"../scop40/bj/d2bjqa1.ent\", 1.9079555166801538, 166]\n",
       " Any[8, \"../scop40/bj/d2bjqa2.ent\", 1.9642497750721413, 166]\n",
       " Any[9, \"../scop40/bj/d2bjra2.ent\", 1.962895382197752, 178]\n",
       " Any[10, \"../scop40/bj/d2bjua1.ent\", 0, 330]"
      ]
     },
     "metadata": {},
     "output_type": "display_data"
    }
   ],
   "source": [
    "dirpath = \"../scop40/bj/\"\n",
    "data = fxdir(dirpath, true)\n"
   ]
  },
  {
   "cell_type": "code",
   "execution_count": 18,
   "metadata": {},
   "outputs": [
    {
     "data": {
      "text/plain": [
       "Any[]"
      ]
     },
     "metadata": {},
     "output_type": "display_data"
    }
   ],
   "source": [
    "data"
   ]
  },
  {
   "cell_type": "code",
   "execution_count": null,
   "metadata": {},
   "outputs": [],
   "source": [
    "using PlotlyJS\n",
    "\n",
    "plot(1:100,2:200)"
   ]
  },
  {
   "cell_type": "code",
   "execution_count": null,
   "metadata": {},
   "outputs": [],
   "source": []
  }
 ],
 "metadata": {
  "kernelspec": {
   "display_name": "Julia 1.11.1",
   "language": "julia",
   "name": "julia-1.11"
  },
  "language_info": {
   "file_extension": ".jl",
   "mimetype": "application/julia",
   "name": "julia",
   "version": "1.11.1"
  }
 },
 "nbformat": 4,
 "nbformat_minor": 2
}
