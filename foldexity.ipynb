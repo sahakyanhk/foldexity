{
 "cells": [
  {
   "cell_type": "code",
   "execution_count": null,
   "metadata": {},
   "outputs": [],
   "source": [
    "#dev branch test\n",
    "#include(\"fileio.jl\")\n",
    "#include(\"kabsch_umeyama.jl\")\n",
    "include(\"foldexity.jl\")\n"
   ]
  },
  {
   "cell_type": "code",
   "execution_count": null,
   "metadata": {},
   "outputs": [],
   "source": [
    "pdb = readpdb(\"testpdb/small.pdb\")\n",
    "writepdb(pdb, \"testpdb/small_backbone.pdb\")\n",
    "\n",
    "xyzcoords = pdb2matrix(pdb)\n",
    "coordmatrix = matrix2fragments(xyzcoords)\n",
    "\n",
    "pdbmatrix = pdb2pdbmatrix(pdb)\n",
    "pdbfragments = matrix2fragments(pdbmatrix)\n",
    "\n",
    "println()\n"
   ]
  },
  {
   "cell_type": "code",
   "execution_count": null,
   "metadata": {},
   "outputs": [],
   "source": [
    "pfrag1 = coordmatrix[10]\n",
    "pfrag2 = coordmatrix[31]\n",
    "\n",
    "align_rmsd(pfrag1, pfrag2)"
   ]
  },
  {
   "cell_type": "code",
   "execution_count": null,
   "metadata": {},
   "outputs": [],
   "source": [
    "function kabsh_matrix(megax)    \n",
    "    try        \n",
    "        n = size(megax)[1]  # Change this to the desired size\n",
    "        matrix = zeros(Float64, n, n)\n",
    "\n",
    "        for i = 1:n # Fill the upper triangle\n",
    "            for j = i+1:n  # Ensure j >= i for the upper triangle\n",
    "                matrix[i, j] = align_rmsd(megax[i], megax[j])\n",
    "            end\n",
    "        end\n",
    "        return sum(matrix) * 2 / n , matrix\n",
    "        \n",
    "    catch \n",
    "        return 0\n",
    "    end\n",
    "end"
   ]
  },
  {
   "cell_type": "code",
   "execution_count": null,
   "metadata": {},
   "outputs": [],
   "source": [
    "fx, m = kabsh_matrix(coordmatrix)"
   ]
  },
  {
   "cell_type": "code",
   "execution_count": null,
   "metadata": {},
   "outputs": [],
   "source": [
    "m[m .< 1] .=0\n",
    "m[m .>= 1] .=1\n"
   ]
  },
  {
   "cell_type": "code",
   "execution_count": 80,
   "metadata": {},
   "outputs": [
    {
     "data": {
      "text/plain": [
       "11.638297872340425"
      ]
     },
     "metadata": {},
     "output_type": "display_data"
    }
   ],
   "source": [
    "sum(m)/size(m)[1]"
   ]
  },
  {
   "cell_type": "code",
   "execution_count": null,
   "metadata": {},
   "outputs": [],
   "source": [
    "data = fxdir(\"testpdb/\", true)  "
   ]
  },
  {
   "cell_type": "code",
   "execution_count": null,
   "metadata": {},
   "outputs": [],
   "source": [
    "fxity, nfrags = fxpdb(\"testpdb/small.pdb\")  "
   ]
  }
 ],
 "metadata": {
  "kernelspec": {
   "display_name": "Julia 1.11.1",
   "language": "julia",
   "name": "julia-1.11"
  },
  "language_info": {
   "file_extension": ".jl",
   "mimetype": "application/julia",
   "name": "julia",
   "version": "1.11.1"
  }
 },
 "nbformat": 4,
 "nbformat_minor": 2
}
