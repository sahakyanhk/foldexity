{
 "cells": [
  {
   "cell_type": "code",
   "execution_count": null,
   "metadata": {},
   "outputs": [],
   "source": [
    "import Pkg \n",
    "Pkg.add(\"Glob\")\n",
    "Pkg.add(\"PlotlyJS\")\n"
   ]
  },
  {
   "cell_type": "code",
   "execution_count": null,
   "metadata": {},
   "outputs": [],
   "source": [
    "using LinearAlgebra\n",
    "using Statistics\n",
    "using Glob\n"
   ]
  },
  {
   "cell_type": "code",
   "execution_count": null,
   "metadata": {},
   "outputs": [],
   "source": [
    "function pdb2matrix(pdb_file::String)\n",
    "    #pdb_txt = readdlm(pdb_file)\n",
    "    x,y,z = [], [], []\n",
    "    for line in eachline(open(pdb_file))\n",
    "        if startswith(line, \"ATOM\") && strip(line[13:16]) == \"CA\"\n",
    "            push!(x, parse(Float64,strip(line[31:38])))\n",
    "            push!(y, parse(Float64,strip(line[39:46])))\n",
    "            push!(z, parse(Float64,strip(line[47:54])))\n",
    "        end\n",
    "        if startswith(line, \"TER\")\n",
    "            break\n",
    "        end\n",
    "    end\n",
    "    m = hcat(x,y,z)\n",
    "    return m\n",
    "end\n",
    "\n",
    "function xyz2matrix(input_xyz)\n",
    "    # Imports .xyz file format as data frame, and converts it to an N x 3 Matrix\n",
    "    raw_xyz=readdlm(input_xyz)\n",
    "    natoms=size(raw_xyz)[1]\n",
    "    just_coords=Array{Float64}(raw_xyz[2:natoms,2:4])\n",
    "    return just_coords\n",
    "end\n",
    "\n",
    "function translate_to_centroid(coord_matrix)\n",
    "    # Normalises the molecular coordinates by centering them.\n",
    "    center = [mean(coord_matrix[:,1]);mean(coord_matrix[:,2]);mean(coord_matrix[:,3])]\n",
    "    centroid = transpose(center)\n",
    "    translated_geom = broadcast(-,coord_matrix,centroid)\n",
    "    return translated_geom\n",
    "end\n",
    "\n",
    "function cross_covariance_matrix(Pmatrix,Qmatrix)\n",
    "    # Cross covariance matrix gives measure of variability between two matrices\n",
    "    CCmatrix = transpose(Pmatrix) * Qmatrix\n",
    "    return CCmatrix\n",
    "end\n",
    "\n",
    "function optimal_rotation_matrix(CCmatrix)\n",
    "    # Returns 3x3 matrix that can be applied to P to get Q\n",
    "    ORmatrix = sqrt(transpose(CCmatrix)*CCmatrix)*inv(CCmatrix)\n",
    "    return ORmatrix\n",
    "end\n",
    "\n",
    "function kabsch(m1,m2)\n",
    "\n",
    "    normalisedP = (translate_to_centroid(m1))\n",
    "    normalisedQ = (translate_to_centroid(m2))\n",
    "\n",
    "    xcov = cross_covariance_matrix(normalisedP,normalisedQ)\n",
    "    orot = optimal_rotation_matrix(xcov)\n",
    "\n",
    "    num_atoms = size(normalisedP)[1]\n",
    "    rotated = zeros(Float64,num_atoms,3)\n",
    "\n",
    "    for i=1:num_atoms\n",
    "        rotated[i,:] = orot*normalisedP[i,:]\n",
    "    end\n",
    "\n",
    "    RMSD_value = norm(rotated-normalisedQ)\n",
    "    return RMSD_value\n",
    "end\n",
    "\n",
    "function matrix2fragments(matrix, wsize=5)\n",
    "    msize = size(matrix)[1]-wsize\n",
    "    megam = [matrix[i:i+wsize,:] for i in 1:msize]\n",
    "    return megam\n",
    "end\n",
    "\n",
    "function kabsh_matrix(megax)    \n",
    "    n = size(megax)[1]  # Change this to the desired size\n",
    "    matrix = zeros(Float64, n, n)\n",
    "\n",
    "    for i = 1:n # Fill the upper triangle\n",
    "        for j = i+1:n  # Ensure j >= i for the upper triangle\n",
    "            matrix[i, j] = kabsch(megax[i], megax[j])\n",
    "        end\n",
    "    end\n",
    "    return sum(matrix)/(n*n)\n",
    "end"
   ]
  },
  {
   "cell_type": "code",
   "execution_count": null,
   "metadata": {},
   "outputs": [],
   "source": [
    "i = 0\n",
    "for file in glob(\"../scop40/bj/*.ent\")\n",
    "        try\n",
    "                print(\"$i \"); i+=1\n",
    "                megax = matrix2fragments(pdb2matrix(file), 4)\n",
    "                nres = size(megax)[1]\n",
    "                fxity = kabsh_matrix(megax)\n",
    "                println(\"$file\")\n",
    "                println(\"$file $fxity $nres\")\n",
    "        catch\n",
    "                println(\"$file NA $nres\")\n",
    "        end\n",
    "end"
   ]
  },
  {
   "cell_type": "code",
   "execution_count": null,
   "metadata": {},
   "outputs": [],
   "source": [
    "megax = matrix2fragments(pdb2matrix(\"../scop40/bj/d2bjua1.ent\"), 4)\n",
    "kabsh_matrix(megax)"
   ]
  },
  {
   "cell_type": "code",
   "execution_count": 43,
   "metadata": {},
   "outputs": [],
   "source": []
  },
  {
   "cell_type": "code",
   "execution_count": null,
   "metadata": {},
   "outputs": [],
   "source": []
  },
  {
   "cell_type": "code",
   "execution_count": null,
   "metadata": {},
   "outputs": [],
   "source": []
  },
  {
   "cell_type": "code",
   "execution_count": null,
   "metadata": {},
   "outputs": [],
   "source": [
    "using PlotlyJS\n",
    "\n",
    "plot(1:100,2:200)"
   ]
  },
  {
   "cell_type": "code",
   "execution_count": null,
   "metadata": {},
   "outputs": [],
   "source": []
  }
 ],
 "metadata": {
  "kernelspec": {
   "display_name": "Julia 1.11.1",
   "language": "julia",
   "name": "julia-1.11"
  },
  "language_info": {
   "file_extension": ".jl",
   "mimetype": "application/julia",
   "name": "julia",
   "version": "1.11.1"
  }
 },
 "nbformat": 4,
 "nbformat_minor": 2
}
